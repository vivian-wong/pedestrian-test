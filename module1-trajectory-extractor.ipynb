{
 "cells": [
  {
   "cell_type": "markdown",
   "id": "0645dcc4",
   "metadata": {},
   "source": [
    "TODO: \n",
    "- (done) implement fastrcnn (and other pl lightning detection models?) in trajectory extractor\n",
    "- get grand central station (done) and football stadium (TODO) data working "
   ]
  },
  {
   "cell_type": "markdown",
   "id": "9fd138b5-7206-4a17-9a24-b89957eda179",
   "metadata": {
    "tags": []
   },
   "source": [
    "# Import Packages"
   ]
  },
  {
   "cell_type": "code",
   "execution_count": 1,
   "id": "4b85418c",
   "metadata": {},
   "outputs": [],
   "source": [
    "## download ckpt.t7 from\n",
    "# https://drive.google.com/drive/folders/1xhG0kRH1EX5B9_Iz8gQJb7UNnn_riXi6\n",
    "# to deep_sort/deep/checkpoint"
   ]
  },
  {
   "cell_type": "code",
   "execution_count": 2,
   "id": "0b6cf63c-662b-40e4-a1c5-8a46d12db14e",
   "metadata": {},
   "outputs": [],
   "source": [
    "# !wget https://raw.githubusercontent.com/AlexeyAB/darknet/master/cfg/yolov4-tiny-3l.cfg\n",
    "# !wget https://github.com/AlexeyAB/darknet/releases/download/darknet_yolo_v4_pre/yolov4-tiny.weights\n",
    "# !git clone https://github.com/JonathonLuiten/TrackEval"
   ]
  },
  {
   "cell_type": "code",
   "execution_count": 124,
   "id": "90f72096",
   "metadata": {},
   "outputs": [
    {
     "name": "stdout",
     "output_type": "stream",
     "text": [
      "The autoreload extension is already loaded. To reload it, use:\n",
      "  %reload_ext autoreload\n"
     ]
    }
   ],
   "source": [
    "%load_ext autoreload\n",
    "%autoreload"
   ]
  },
  {
   "cell_type": "code",
   "execution_count": 125,
   "id": "f29dc42c-9ce4-4dea-8216-7abb2ecedf54",
   "metadata": {},
   "outputs": [
    {
     "name": "stdout",
     "output_type": "stream",
     "text": [
      "cuda\n"
     ]
    }
   ],
   "source": [
    "import pandas as pd \n",
    "import numpy as np\n",
    "import pytorch_lightning as pl\n",
    "import matplotlib.pyplot as plt\n",
    "import cv2, glob, os, torch, math, torchvision, datetime\n",
    "from pl_bolts.models.detection import YOLO, YOLOConfiguration\n",
    "from tqdm.notebook import tqdm \n",
    "import utm\n",
    "\n",
    "# my files\n",
    "from deep_sort.deep_sort import DeepSort\n",
    "import draw_utils, transform_utils\n",
    "from trajectory_extractor import TrajectoryExtractor\n",
    "\n",
    "device = torch.device('cuda' if torch.cuda.is_available() else 'cpu')\n",
    "print(device)"
   ]
  },
  {
   "cell_type": "markdown",
   "id": "24a019cc-faeb-4b63-8420-52ea25c984f8",
   "metadata": {
    "tags": []
   },
   "source": [
    "# Defined User Args"
   ]
  },
  {
   "cell_type": "code",
   "execution_count": 131,
   "id": "550ba153",
   "metadata": {},
   "outputs": [],
   "source": [
    "# other videos\n",
    "class TrajectoryExtractorArgs: \n",
    "    detector_name = 'YOLO'\n",
    "    tracker_name = 'DeepSORT'\n",
    "    \n",
    "    unique_suffix = str(datetime.datetime.now().date()) + '_' + str(datetime.datetime.now().time()).replace(':', '.')\n",
    "#     input_video_path = \"videos/Stadium/00084.wmv\"\n",
    "#     input_video_path = \"videos/Y2E2/Y2E2_West.MOV\"\n",
    "#     input_video_path = \"videos/GCS/grandcentral.avi\" # cannot use because no gt. fml.\n",
    "    input_video_path = \"videos/GCS/slideshow.avi\" # Use this for paper YOLO. \n",
    "#     input_video_path = \"videos/GCS/slideshow_small.avi\" # Use this for paper FRCNN. \n",
    "    \n",
    "    output_txt_folder = 'TrackEval/data/trackers/mot_challenge/GCS-val/{}_{}_{}'.format(detector_name, tracker_name, unique_suffix)\n",
    "    if not os.path.exists(output_txt_folder):\n",
    "        os.makedirs(output_txt_folder)\n",
    "        os.makedirs(output_txt_folder+'/data')\n",
    "    output_txt_path = output_txt_folder+'/data/seq-01.txt'\n",
    "    args_save_txt_path = output_txt_folder+'/args.txt'\n",
    "    output_video_path = os.path.split(input_video_path)[0]+\"/out/{}.avi\".format(unique_suffix)\n",
    "    \n",
    "#     yolo_config_path = \"yolo/yolov4-tiny-3l.cfg\"\n",
    "#     yolo_pre_weights_path = \"yolo/yolov4-tiny.weights\"\n",
    "    yolo_config_path = \"yolo/yolov7-tiny.cfg\"\n",
    "    yolo_pre_weights_path = \"yolo/yolov7-tiny.weights\"\n",
    "\n",
    "    confidence_threshold = 0.01 #YOLO: 0.01 GCS, 0.7 Y2E2; FRCNN: 0.01 GCS, 0.68 Y2E2\n",
    "    deepsort_parameters_path = \"deep_sort/deep/checkpoint/ckpt.t7\"\n",
    "    device = torch.device('cuda' if torch.cuda.is_available() else 'cpu')\n",
    "    \n",
    "args = TrajectoryExtractorArgs"
   ]
  },
  {
   "cell_type": "code",
   "execution_count": 132,
   "id": "ab0532dc",
   "metadata": {},
   "outputs": [
    {
     "data": {
      "text/plain": [
       "('TrackEval/data/trackers/mot_challenge/GCS-val/YOLO_DeepSORT_2022-11-27_21.35.47.958858/data/seq-01.txt',\n",
       " 'videos/GCS/out_2022-11-27_21.35.47.958858.avi')"
      ]
     },
     "execution_count": 132,
     "metadata": {},
     "output_type": "execute_result"
    }
   ],
   "source": [
    "args.output_txt_path, args.output_video_path"
   ]
  },
  {
   "cell_type": "markdown",
   "id": "56b7720c-9452-47f2-aa79-48674a2fef89",
   "metadata": {
    "tags": []
   },
   "source": [
    "# Step 1: DL model to track human locations in frames"
   ]
  },
  {
   "cell_type": "code",
   "execution_count": 133,
   "id": "940112fa",
   "metadata": {},
   "outputs": [
    {
     "name": "stderr",
     "output_type": "stream",
     "text": [
      "/home/vivian/anaconda3/envs/pedestrian-test/lib/python3.10/site-packages/pl_bolts/models/detection/yolo/yolo_config.py:118: UserWarning: Unknown YOLO configuration variable: objectness_smooth\n",
      "  warn(\"Unknown YOLO configuration variable: \" + key)\n",
      "Loading weights from Darknet model version 0.2.5 that has been trained on 0 images.\n"
     ]
    },
    {
     "name": "stdout",
     "output_type": "stream",
     "text": [
      "Loading video from videos/GCS/slideshow.avi...\n",
      "1\n",
      "Loaded video has 6001 frames at FPS 1, size 1920x1080\n",
      "transformed to size 1920x1088\n"
     ]
    },
    {
     "name": "stderr",
     "output_type": "stream",
     "text": [
      "100%|███████████████████████████████████████████| 50/50 [00:08<00:00,  5.94it/s]\n"
     ]
    }
   ],
   "source": [
    "# set up our extractor\n",
    "extractor = TrajectoryExtractor(args)\n",
    "\n",
    "##################################################\n",
    "if args.detector_name == 'YOLO':\n",
    "    # set up yolo\n",
    "    yolo_config = YOLOConfiguration(args.yolo_config_path)\n",
    "    yolo_config.width = extractor.imw\n",
    "    yolo_config.height = extractor.imh\n",
    "    model = YOLO(network=yolo_config.get_network()).to(device)\n",
    "    with open(args.yolo_pre_weights_path) as pre_weights: \n",
    "        model.load_darknet_weights(pre_weights)\n",
    "\n",
    "    extractor.load_detector(model)\n",
    "\n",
    "##################################################\n",
    "elif args.detector_name == 'FasterRCNN':\n",
    "    # set up faster rcnn\n",
    "    \n",
    "    # implemented to add the \"infer\" function to infer on single image \n",
    "    anchor_generator = torchvision.models.detection.anchor_utils.AnchorGenerator(sizes=((8, 16, 32, 64, 128),),\n",
    "                                                                                 aspect_ratios=((0.5, 1.0),))\n",
    "    class modified_FasterRCNN(torch.nn.Module): \n",
    "        def __init__(self, **kwargs):\n",
    "            super().__init__()\n",
    "            self.model = torchvision.models.detection.fasterrcnn_resnet50_fpn_v2(**kwargs)\n",
    "        def infer(self, rgb_tensor): \n",
    "            # single image\n",
    "            pred_dict = self.model([rgb_tensor])[0]\n",
    "            boxes = pred_dict['boxes'] # (N,4)\n",
    "            labels = pred_dict['labels'] # (N)\n",
    "            labels = [l - 1 for l in labels] # subtract 1 from class IDs because coco classes have background=0. person=1\n",
    "            confidences = pred_dict['scores'] # (N)  \n",
    "            num_boxes = boxes.shape[0]\n",
    "            \n",
    "            return boxes, confidences, labels\n",
    "    \n",
    "#     model = modified_FasterRCNN(weights='DEFAULT', \n",
    "#                                 weights_backbone = 'DEFAULT',\n",
    "#                                 box_score_thresh=args.confidence_threshold, \n",
    "#                                 box_nms_thresh=0.1,\n",
    "#                                 box_detections_per_img=300,\n",
    "#                                ).to(device)\n",
    "    model = modified_FasterRCNN(weights='DEFAULT').to(device)\n",
    "    extractor.load_detector(model)\n",
    "\n",
    "##################################################\n",
    "if args.tracker_name == 'DeepSORT':\n",
    "    # set up deepsort\n",
    "    extractor.load_tracker(\n",
    "        DeepSort(args.deepsort_parameters_path, \n",
    "                 min_confidence = args.confidence_threshold,\n",
    "                 max_dist = 1e10, \n",
    "                 max_iou_distance = 0.999, \n",
    "                 max_age = 4,\n",
    "#                  nms_max_overlap=1000\n",
    "                )\n",
    "    )\n",
    "\n",
    "elif args.tracker_name == 'SORT': \n",
    "    # TODO\n",
    "    pass\n",
    "\n",
    "detector_out_df, tracker_out_df, txt_df = extractor.detect_all(\n",
    "    max_frames=50,\n",
    "    skip_every_n_frames = 1\n",
    ")\n",
    "\n",
    "extractor.release_all()"
   ]
  },
  {
   "cell_type": "code",
   "execution_count": 134,
   "id": "224cd91d",
   "metadata": {},
   "outputs": [
    {
     "data": {
      "text/plain": [
       "71"
      ]
     },
     "execution_count": 134,
     "metadata": {},
     "output_type": "execute_result"
    }
   ],
   "source": [
    "len(detector_out_df.query('frame_number==30'))"
   ]
  },
  {
   "cell_type": "code",
   "execution_count": 135,
   "id": "b5fd00b8",
   "metadata": {},
   "outputs": [
    {
     "data": {
      "text/plain": [
       "61"
      ]
     },
     "execution_count": 135,
     "metadata": {},
     "output_type": "execute_result"
    }
   ],
   "source": [
    "len(tracker_out_df.query('frame_number==30'))"
   ]
  },
  {
   "cell_type": "code",
   "execution_count": 136,
   "id": "ab7d73db",
   "metadata": {
    "scrolled": true
   },
   "outputs": [
    {
     "data": {
      "text/html": [
       "<div>\n",
       "<style scoped>\n",
       "    .dataframe tbody tr th:only-of-type {\n",
       "        vertical-align: middle;\n",
       "    }\n",
       "\n",
       "    .dataframe tbody tr th {\n",
       "        vertical-align: top;\n",
       "    }\n",
       "\n",
       "    .dataframe thead th {\n",
       "        text-align: right;\n",
       "    }\n",
       "</style>\n",
       "<table border=\"1\" class=\"dataframe\">\n",
       "  <thead>\n",
       "    <tr style=\"text-align: right;\">\n",
       "      <th></th>\n",
       "      <th>bbox_x1</th>\n",
       "      <th>bbox_y1</th>\n",
       "      <th>bbox_x2</th>\n",
       "      <th>bbox_y2</th>\n",
       "      <th>person_id</th>\n",
       "      <th>crowd_count</th>\n",
       "      <th>frame_number</th>\n",
       "      <th>bbox_w</th>\n",
       "      <th>bbox_h</th>\n",
       "      <th>conf</th>\n",
       "      <th>x</th>\n",
       "      <th>y</th>\n",
       "      <th>z</th>\n",
       "    </tr>\n",
       "  </thead>\n",
       "  <tbody>\n",
       "    <tr>\n",
       "      <th>0</th>\n",
       "      <td>1201</td>\n",
       "      <td>254</td>\n",
       "      <td>1215</td>\n",
       "      <td>282</td>\n",
       "      <td>3</td>\n",
       "      <td>40</td>\n",
       "      <td>3</td>\n",
       "      <td>0</td>\n",
       "      <td>0</td>\n",
       "      <td>1</td>\n",
       "      <td>-1</td>\n",
       "      <td>-1</td>\n",
       "      <td>-1</td>\n",
       "    </tr>\n",
       "    <tr>\n",
       "      <th>1</th>\n",
       "      <td>1446</td>\n",
       "      <td>376</td>\n",
       "      <td>1457</td>\n",
       "      <td>407</td>\n",
       "      <td>6</td>\n",
       "      <td>40</td>\n",
       "      <td>3</td>\n",
       "      <td>0</td>\n",
       "      <td>0</td>\n",
       "      <td>1</td>\n",
       "      <td>-1</td>\n",
       "      <td>-1</td>\n",
       "      <td>-1</td>\n",
       "    </tr>\n",
       "    <tr>\n",
       "      <th>2</th>\n",
       "      <td>424</td>\n",
       "      <td>508</td>\n",
       "      <td>437</td>\n",
       "      <td>545</td>\n",
       "      <td>8</td>\n",
       "      <td>40</td>\n",
       "      <td>3</td>\n",
       "      <td>0</td>\n",
       "      <td>0</td>\n",
       "      <td>1</td>\n",
       "      <td>-1</td>\n",
       "      <td>-1</td>\n",
       "      <td>-1</td>\n",
       "    </tr>\n",
       "    <tr>\n",
       "      <th>3</th>\n",
       "      <td>886</td>\n",
       "      <td>684</td>\n",
       "      <td>899</td>\n",
       "      <td>721</td>\n",
       "      <td>10</td>\n",
       "      <td>40</td>\n",
       "      <td>3</td>\n",
       "      <td>0</td>\n",
       "      <td>0</td>\n",
       "      <td>1</td>\n",
       "      <td>-1</td>\n",
       "      <td>-1</td>\n",
       "      <td>-1</td>\n",
       "    </tr>\n",
       "    <tr>\n",
       "      <th>4</th>\n",
       "      <td>608</td>\n",
       "      <td>270</td>\n",
       "      <td>621</td>\n",
       "      <td>298</td>\n",
       "      <td>12</td>\n",
       "      <td>40</td>\n",
       "      <td>3</td>\n",
       "      <td>0</td>\n",
       "      <td>0</td>\n",
       "      <td>1</td>\n",
       "      <td>-1</td>\n",
       "      <td>-1</td>\n",
       "      <td>-1</td>\n",
       "    </tr>\n",
       "  </tbody>\n",
       "</table>\n",
       "</div>"
      ],
      "text/plain": [
       "   bbox_x1  bbox_y1  bbox_x2  bbox_y2  person_id  crowd_count  frame_number  \\\n",
       "0     1201      254     1215      282          3           40             3   \n",
       "1     1446      376     1457      407          6           40             3   \n",
       "2      424      508      437      545          8           40             3   \n",
       "3      886      684      899      721         10           40             3   \n",
       "4      608      270      621      298         12           40             3   \n",
       "\n",
       "   bbox_w  bbox_h  conf  x  y  z  \n",
       "0       0       0     1 -1 -1 -1  \n",
       "1       0       0     1 -1 -1 -1  \n",
       "2       0       0     1 -1 -1 -1  \n",
       "3       0       0     1 -1 -1 -1  \n",
       "4       0       0     1 -1 -1 -1  "
      ]
     },
     "execution_count": 136,
     "metadata": {},
     "output_type": "execute_result"
    }
   ],
   "source": [
    "txt_df.head(5)"
   ]
  },
  {
   "cell_type": "code",
   "execution_count": 82,
   "id": "60fdcc00",
   "metadata": {},
   "outputs": [
    {
     "data": {
      "text/plain": [
       "<AxesSubplot: >"
      ]
     },
     "execution_count": 82,
     "metadata": {},
     "output_type": "execute_result"
    },
    {
     "data": {
      "image/png": "[encoded data removed]",
      "text/plain": [
       "<Figure size 640x480 with 1 Axes>"
      ]
     },
     "metadata": {},
     "output_type": "display_data"
    }
   ],
   "source": [
    "detector_out_df['confidence'].hist(bins=1000)"
   ]
  },
  {
   "cell_type": "code",
   "execution_count": 83,
   "id": "ae418bd8",
   "metadata": {},
   "outputs": [
    {
     "data": {
      "text/html": [
       "<div>\n",
       "<style scoped>\n",
       "    .dataframe tbody tr th:only-of-type {\n",
       "        vertical-align: middle;\n",
       "    }\n",
       "\n",
       "    .dataframe tbody tr th {\n",
       "        vertical-align: top;\n",
       "    }\n",
       "\n",
       "    .dataframe thead th {\n",
       "        text-align: right;\n",
       "    }\n",
       "</style>\n",
       "<table border=\"1\" class=\"dataframe\">\n",
       "  <thead>\n",
       "    <tr style=\"text-align: right;\">\n",
       "      <th></th>\n",
       "      <th>bbox_x1</th>\n",
       "      <th>bbox_y1</th>\n",
       "      <th>bbox_x2</th>\n",
       "      <th>bbox_y2</th>\n",
       "      <th>person_id</th>\n",
       "      <th>crowd_count</th>\n",
       "      <th>frame_number</th>\n",
       "    </tr>\n",
       "  </thead>\n",
       "  <tbody>\n",
       "    <tr>\n",
       "      <th>0</th>\n",
       "      <td>1188</td>\n",
       "      <td>226</td>\n",
       "      <td>1216</td>\n",
       "      <td>282</td>\n",
       "      <td>3</td>\n",
       "      <td>39</td>\n",
       "      <td>3</td>\n",
       "    </tr>\n",
       "    <tr>\n",
       "      <th>1</th>\n",
       "      <td>1435</td>\n",
       "      <td>346</td>\n",
       "      <td>1456</td>\n",
       "      <td>407</td>\n",
       "      <td>6</td>\n",
       "      <td>39</td>\n",
       "      <td>3</td>\n",
       "    </tr>\n",
       "    <tr>\n",
       "      <th>2</th>\n",
       "      <td>411</td>\n",
       "      <td>474</td>\n",
       "      <td>436</td>\n",
       "      <td>546</td>\n",
       "      <td>8</td>\n",
       "      <td>39</td>\n",
       "      <td>3</td>\n",
       "    </tr>\n",
       "    <tr>\n",
       "      <th>3</th>\n",
       "      <td>874</td>\n",
       "      <td>648</td>\n",
       "      <td>899</td>\n",
       "      <td>721</td>\n",
       "      <td>10</td>\n",
       "      <td>39</td>\n",
       "      <td>3</td>\n",
       "    </tr>\n",
       "    <tr>\n",
       "      <th>4</th>\n",
       "      <td>597</td>\n",
       "      <td>242</td>\n",
       "      <td>621</td>\n",
       "      <td>298</td>\n",
       "      <td>12</td>\n",
       "      <td>39</td>\n",
       "      <td>3</td>\n",
       "    </tr>\n",
       "    <tr>\n",
       "      <th>...</th>\n",
       "      <td>...</td>\n",
       "      <td>...</td>\n",
       "      <td>...</td>\n",
       "      <td>...</td>\n",
       "      <td>...</td>\n",
       "      <td>...</td>\n",
       "      <td>...</td>\n",
       "    </tr>\n",
       "    <tr>\n",
       "      <th>42</th>\n",
       "      <td>1501</td>\n",
       "      <td>284</td>\n",
       "      <td>1516</td>\n",
       "      <td>312</td>\n",
       "      <td>856</td>\n",
       "      <td>52</td>\n",
       "      <td>50</td>\n",
       "    </tr>\n",
       "    <tr>\n",
       "      <th>43</th>\n",
       "      <td>409</td>\n",
       "      <td>328</td>\n",
       "      <td>438</td>\n",
       "      <td>394</td>\n",
       "      <td>858</td>\n",
       "      <td>52</td>\n",
       "      <td>50</td>\n",
       "    </tr>\n",
       "    <tr>\n",
       "      <th>44</th>\n",
       "      <td>1537</td>\n",
       "      <td>412</td>\n",
       "      <td>1561</td>\n",
       "      <td>472</td>\n",
       "      <td>860</td>\n",
       "      <td>52</td>\n",
       "      <td>50</td>\n",
       "    </tr>\n",
       "    <tr>\n",
       "      <th>45</th>\n",
       "      <td>709</td>\n",
       "      <td>686</td>\n",
       "      <td>732</td>\n",
       "      <td>747</td>\n",
       "      <td>868</td>\n",
       "      <td>52</td>\n",
       "      <td>50</td>\n",
       "    </tr>\n",
       "    <tr>\n",
       "      <th>46</th>\n",
       "      <td>465</td>\n",
       "      <td>730</td>\n",
       "      <td>494</td>\n",
       "      <td>802</td>\n",
       "      <td>873</td>\n",
       "      <td>52</td>\n",
       "      <td>50</td>\n",
       "    </tr>\n",
       "  </tbody>\n",
       "</table>\n",
       "<p>2284 rows × 7 columns</p>\n",
       "</div>"
      ],
      "text/plain": [
       "    bbox_x1  bbox_y1  bbox_x2  bbox_y2  person_id  crowd_count  frame_number\n",
       "0      1188      226     1216      282          3           39             3\n",
       "1      1435      346     1456      407          6           39             3\n",
       "2       411      474      436      546          8           39             3\n",
       "3       874      648      899      721         10           39             3\n",
       "4       597      242      621      298         12           39             3\n",
       "..      ...      ...      ...      ...        ...          ...           ...\n",
       "42     1501      284     1516      312        856           52            50\n",
       "43      409      328      438      394        858           52            50\n",
       "44     1537      412     1561      472        860           52            50\n",
       "45      709      686      732      747        868           52            50\n",
       "46      465      730      494      802        873           52            50\n",
       "\n",
       "[2284 rows x 7 columns]"
      ]
     },
     "execution_count": 83,
     "metadata": {},
     "output_type": "execute_result"
    }
   ],
   "source": [
    "tracker_out_df.head(-5)"
   ]
  },
  {
   "cell_type": "markdown",
   "id": "aa5bfa6c-5fd0-4a65-ba20-db89ec465c01",
   "metadata": {},
   "source": [
    "# Step 2: Obtain 2D Plane Projection （TODO: automate this)"
   ]
  },
  {
   "cell_type": "code",
   "execution_count": null,
   "id": "5900617b-7e36-442d-8aec-8455016de648",
   "metadata": {},
   "outputs": [],
   "source": [
    "# precomputed homography matrices\n",
    "############# STADIUM #############\n",
    "# pts_img = [[450.0,203.0],[282.0,297.0],[470.0,403.0],[630.0,270.0]] # top left, bot left, bot right, top right \n",
    "# pts_world = [[250,250], [250,500], [500,500],[500,250]]\n",
    "\n",
    "# HOMOG, status = cv2.findHomography(np.array(pts_img), np.array(pts_world)+700)\n",
    "\n",
    "############# GCS #############\n",
    "# HOMOG = [[4.97412897e-02, -4.24730883e-02, 7.25543911e+01],\n",
    "#          [1.45017874e-01, -3.35678711e-03, 7.97920970e+00],\n",
    "#          [1.36068797e-03, -4.98339188e-05, 1.00000000e+00]] \n",
    "\n",
    "############# Y2E2 West #############\n",
    "#note: points must be consistent in order and winding (e.g. clockwise) \n",
    "pts_img = [[1090, 1625], [2270, 1785], [2010, 2250], [470, 2150]] # palm tree locations \n",
    "long_lat_world = [(37.428570, -122.175184), (37.428489, -122.175211), \n",
    "                  (37.428506, -122.175288), (37.428589, -122.175260)]\n",
    "pts_world = []\n",
    "for lat,lon in long_lat_world: \n",
    "    utm_east, utm_north, utm_zone, utm_letter = utm.from_latlon(lat,lon) # meters\n",
    "    pts_world.append([utm_east*100, utm_north*100]) # centimeters\n",
    "# shift pts_world so that values aren't too big\n",
    "world_np = np.array(pts_world)\n",
    "world_np = world_np - world_np.min(axis=0)\n",
    "pts_world = world_np.tolist()\n",
    "\n",
    "    \n",
    "HOMOG, status = cv2.findHomography(np.array(pts_img), np.array(pts_world))"
   ]
  },
  {
   "cell_type": "code",
   "execution_count": 10,
   "id": "2b597d75",
   "metadata": {},
   "outputs": [
    {
     "data": {
      "text/plain": [
       "array([[-1.35182588e-01, -1.66664049e+00,  4.02165809e+03],\n",
       "       [-9.68577484e-01, -3.90567691e-02,  2.26838722e+03],\n",
       "       [-2.04737711e-04,  3.07059869e-04,  1.00000000e+00]])"
      ]
     },
     "execution_count": 10,
     "metadata": {},
     "output_type": "execute_result"
    }
   ],
   "source": [
    "HOMOG"
   ]
  },
  {
   "cell_type": "markdown",
   "id": "5a5ccf62-c357-4993-898a-6a72cb028a6e",
   "metadata": {},
   "source": [
    "# Step 3: Obtain the transformed human trajectories in world coordinates"
   ]
  },
  {
   "cell_type": "code",
   "execution_count": 11,
   "id": "d4ac695d",
   "metadata": {},
   "outputs": [],
   "source": [
    "#### converting any coordinate to world coordinate \n",
    "def img_to_world_coords(coords_img, HOMOG, pts_img = None, pts_world = None):\n",
    "    '''\n",
    "    use at least 4 \n",
    "    input: \n",
    "        coords_img: a np array of dim (num_ped,seq_len,2)\n",
    "    if using pre-computed HOMOG, no need to use pts_img and pts_world\n",
    "        pts_img: a list of [x,y] points in image coordinates. list length cannot be shorter than 4\n",
    "        pts_world: a list of [x,y] points in world coordinates. each point cooresponds to a point in pts_img\n",
    "        assumed_height: the estimated height of all humans. source: https://www.sciencedirect.com/science/article/pii/S0379073811002167\n",
    "                        NOT USED FOR NOW \n",
    "    output: \n",
    "        coords_world: same shape as coords_img but in world coordinates\n",
    "    '''\n",
    "    # convert to np matrix and check size\n",
    "    if pts_img == None: \n",
    "        h = HOMOG\n",
    "    else: \n",
    "        pts_img = np.array(pts_img)\n",
    "        pts_world = np.array(pts_world)\n",
    "        assert pts_img.shape==pts_world.shape and pts_img.shape[0] >= 4\n",
    "     \n",
    "        # calculate homography matrix H. more pts_img means more accurate H\n",
    "        h, status = cv2.findHomography(pts_img, pts_world)\n",
    "     \n",
    "    # finally, get the mapped world coordinates\n",
    "    coords_world = cv2.perspectiveTransform(coords_img.astype(np.float32), h)\n",
    "    # coords_world[:,1] += assumed_height\n",
    "    return coords_world"
   ]
  },
  {
   "cell_type": "code",
   "execution_count": 12,
   "id": "f0b2afab",
   "metadata": {},
   "outputs": [],
   "source": [
    "x1y2x2y2 = pedestrian_df[[ 'bbox_x1', \n",
    "                           'bbox_y2',\n",
    "                           'bbox_x2', \n",
    "                           'bbox_y2', ]].values.reshape(-1,2,2)"
   ]
  },
  {
   "cell_type": "code",
   "execution_count": 13,
   "id": "013198ab",
   "metadata": {},
   "outputs": [],
   "source": [
    "pedestrian_df[['mapped_x1', \n",
    "               'mapped_y1']] = img_to_world_coords(x1y2x2y2, HOMOG)[:,0,:]\n",
    "pedestrian_df[['mapped_x2', \n",
    "               'mapped_y2']] = img_to_world_coords(x1y2x2y2, HOMOG)[:,1,:]"
   ]
  },
  {
   "cell_type": "code",
   "execution_count": 14,
   "id": "76b66f49",
   "metadata": {
    "scrolled": true
   },
   "outputs": [
    {
     "data": {
      "text/html": [
       "<div>\n",
       "<style scoped>\n",
       "    .dataframe tbody tr th:only-of-type {\n",
       "        vertical-align: middle;\n",
       "    }\n",
       "\n",
       "    .dataframe tbody tr th {\n",
       "        vertical-align: top;\n",
       "    }\n",
       "\n",
       "    .dataframe thead th {\n",
       "        text-align: right;\n",
       "    }\n",
       "</style>\n",
       "<table border=\"1\" class=\"dataframe\">\n",
       "  <thead>\n",
       "    <tr style=\"text-align: right;\">\n",
       "      <th></th>\n",
       "      <th>person_id</th>\n",
       "      <th>confidence</th>\n",
       "      <th>bbox_x1</th>\n",
       "      <th>bbox_y1</th>\n",
       "      <th>bbox_x2</th>\n",
       "      <th>bbox_y2</th>\n",
       "      <th>frame_number</th>\n",
       "      <th>mapped_x1</th>\n",
       "      <th>mapped_y1</th>\n",
       "      <th>mapped_x2</th>\n",
       "      <th>mapped_y2</th>\n",
       "    </tr>\n",
       "  </thead>\n",
       "  <tbody>\n",
       "    <tr>\n",
       "      <th>0</th>\n",
       "      <td>0</td>\n",
       "      <td>0.99</td>\n",
       "      <td>155</td>\n",
       "      <td>82</td>\n",
       "      <td>252</td>\n",
       "      <td>369</td>\n",
       "      <td>0</td>\n",
       "      <td>3130.367920</td>\n",
       "      <td>1945.176270</td>\n",
       "      <td>3176.571777</td>\n",
       "      <td>1893.070190</td>\n",
       "    </tr>\n",
       "    <tr>\n",
       "      <th>1</th>\n",
       "      <td>1</td>\n",
       "      <td>0.98</td>\n",
       "      <td>286</td>\n",
       "      <td>22</td>\n",
       "      <td>386</td>\n",
       "      <td>195</td>\n",
       "      <td>0</td>\n",
       "      <td>3653.172607</td>\n",
       "      <td>1981.139526</td>\n",
       "      <td>3715.645020</td>\n",
       "      <td>1923.743896</td>\n",
       "    </tr>\n",
       "    <tr>\n",
       "      <th>2</th>\n",
       "      <td>2</td>\n",
       "      <td>0.98</td>\n",
       "      <td>460</td>\n",
       "      <td>89</td>\n",
       "      <td>568</td>\n",
       "      <td>384</td>\n",
       "      <td>0</td>\n",
       "      <td>3242.533447</td>\n",
       "      <td>1765.935181</td>\n",
       "      <td>3299.539307</td>\n",
       "      <td>1700.482666</td>\n",
       "    </tr>\n",
       "    <tr>\n",
       "      <th>3</th>\n",
       "      <td>3</td>\n",
       "      <td>0.95</td>\n",
       "      <td>540</td>\n",
       "      <td>75</td>\n",
       "      <td>635</td>\n",
       "      <td>312</td>\n",
       "      <td>0</td>\n",
       "      <td>3480.017822</td>\n",
       "      <td>1759.126831</td>\n",
       "      <td>3536.804443</td>\n",
       "      <td>1699.280029</td>\n",
       "    </tr>\n",
       "    <tr>\n",
       "      <th>4</th>\n",
       "      <td>4</td>\n",
       "      <td>0.95</td>\n",
       "      <td>307</td>\n",
       "      <td>-13</td>\n",
       "      <td>360</td>\n",
       "      <td>225</td>\n",
       "      <td>0</td>\n",
       "      <td>3582.827637</td>\n",
       "      <td>1950.089355</td>\n",
       "      <td>3614.687744</td>\n",
       "      <td>1919.775391</td>\n",
       "    </tr>\n",
       "    <tr>\n",
       "      <th>...</th>\n",
       "      <td>...</td>\n",
       "      <td>...</td>\n",
       "      <td>...</td>\n",
       "      <td>...</td>\n",
       "      <td>...</td>\n",
       "      <td>...</td>\n",
       "      <td>...</td>\n",
       "      <td>...</td>\n",
       "      <td>...</td>\n",
       "      <td>...</td>\n",
       "      <td>...</td>\n",
       "    </tr>\n",
       "    <tr>\n",
       "      <th>3</th>\n",
       "      <td>3</td>\n",
       "      <td>0.87</td>\n",
       "      <td>518</td>\n",
       "      <td>110</td>\n",
       "      <td>581</td>\n",
       "      <td>260</td>\n",
       "      <td>99</td>\n",
       "      <td>3613.035645</td>\n",
       "      <td>1803.802490</td>\n",
       "      <td>3652.672119</td>\n",
       "      <td>1764.511475</td>\n",
       "    </tr>\n",
       "    <tr>\n",
       "      <th>4</th>\n",
       "      <td>4</td>\n",
       "      <td>0.79</td>\n",
       "      <td>292</td>\n",
       "      <td>11</td>\n",
       "      <td>335</td>\n",
       "      <td>252</td>\n",
       "      <td>99</td>\n",
       "      <td>3500.595947</td>\n",
       "      <td>1941.557251</td>\n",
       "      <td>3525.383545</td>\n",
       "      <td>1917.215332</td>\n",
       "    </tr>\n",
       "    <tr>\n",
       "      <th>5</th>\n",
       "      <td>5</td>\n",
       "      <td>0.75</td>\n",
       "      <td>266</td>\n",
       "      <td>36</td>\n",
       "      <td>358</td>\n",
       "      <td>230</td>\n",
       "      <td>99</td>\n",
       "      <td>3545.071289</td>\n",
       "      <td>1969.921631</td>\n",
       "      <td>3599.554688</td>\n",
       "      <td>1917.778320</td>\n",
       "    </tr>\n",
       "    <tr>\n",
       "      <th>6</th>\n",
       "      <td>6</td>\n",
       "      <td>0.74</td>\n",
       "      <td>662</td>\n",
       "      <td>82</td>\n",
       "      <td>751</td>\n",
       "      <td>398</td>\n",
       "      <td>99</td>\n",
       "      <td>3312.995117</td>\n",
       "      <td>1633.412109</td>\n",
       "      <td>3362.906738</td>\n",
       "      <td>1575.133545</td>\n",
       "    </tr>\n",
       "    <tr>\n",
       "      <th>7</th>\n",
       "      <td>7</td>\n",
       "      <td>0.73</td>\n",
       "      <td>397</td>\n",
       "      <td>254</td>\n",
       "      <td>508</td>\n",
       "      <td>470</td>\n",
       "      <td>99</td>\n",
       "      <td>2995.821289</td>\n",
       "      <td>1754.882324</td>\n",
       "      <td>3046.841797</td>\n",
       "      <td>1689.872070</td>\n",
       "    </tr>\n",
       "  </tbody>\n",
       "</table>\n",
       "<p>800 rows × 11 columns</p>\n",
       "</div>"
      ],
      "text/plain": [
       "    person_id  confidence  bbox_x1  bbox_y1  bbox_x2  bbox_y2  frame_number  \\\n",
       "0           0        0.99      155       82      252      369             0   \n",
       "1           1        0.98      286       22      386      195             0   \n",
       "2           2        0.98      460       89      568      384             0   \n",
       "3           3        0.95      540       75      635      312             0   \n",
       "4           4        0.95      307      -13      360      225             0   \n",
       "..        ...         ...      ...      ...      ...      ...           ...   \n",
       "3           3        0.87      518      110      581      260            99   \n",
       "4           4        0.79      292       11      335      252            99   \n",
       "5           5        0.75      266       36      358      230            99   \n",
       "6           6        0.74      662       82      751      398            99   \n",
       "7           7        0.73      397      254      508      470            99   \n",
       "\n",
       "      mapped_x1    mapped_y1    mapped_x2    mapped_y2  \n",
       "0   3130.367920  1945.176270  3176.571777  1893.070190  \n",
       "1   3653.172607  1981.139526  3715.645020  1923.743896  \n",
       "2   3242.533447  1765.935181  3299.539307  1700.482666  \n",
       "3   3480.017822  1759.126831  3536.804443  1699.280029  \n",
       "4   3582.827637  1950.089355  3614.687744  1919.775391  \n",
       "..          ...          ...          ...          ...  \n",
       "3   3613.035645  1803.802490  3652.672119  1764.511475  \n",
       "4   3500.595947  1941.557251  3525.383545  1917.215332  \n",
       "5   3545.071289  1969.921631  3599.554688  1917.778320  \n",
       "6   3312.995117  1633.412109  3362.906738  1575.133545  \n",
       "7   2995.821289  1754.882324  3046.841797  1689.872070  \n",
       "\n",
       "[800 rows x 11 columns]"
      ]
     },
     "execution_count": 14,
     "metadata": {},
     "output_type": "execute_result"
    }
   ],
   "source": [
    "pedestrian_df"
   ]
  },
  {
   "cell_type": "code",
   "execution_count": 15,
   "id": "51750688",
   "metadata": {},
   "outputs": [
    {
     "data": {
      "text/plain": [
       "<AxesSubplot: xlabel='mapped_x1', ylabel='mapped_y1'>"
      ]
     },
     "execution_count": 15,
     "metadata": {},
     "output_type": "execute_result"
    },
    {
     "data": {
      "image/png": "[encoded data removed]",
      "text/plain": [
       "<Figure size 640x480 with 2 Axes>"
      ]
     },
     "metadata": {},
     "output_type": "display_data"
    }
   ],
   "source": [
    "pedestrian_df.plot.scatter('mapped_x1', 'mapped_y1', c='person_id')"
   ]
  },
  {
   "cell_type": "markdown",
   "id": "9be5e11d-d041-4cac-82cc-322c56190493",
   "metadata": {},
   "source": [
    "# Step 4: Identify crowdedness severity"
   ]
  },
  {
   "cell_type": "code",
   "execution_count": 16,
   "id": "9ccdb7eb",
   "metadata": {},
   "outputs": [
    {
     "ename": "SyntaxError",
     "evalue": "incomplete input (2874010739.py, line 2)",
     "output_type": "error",
     "traceback": [
      "\u001b[0;36m  Cell \u001b[0;32mIn [16], line 2\u001b[0;36m\u001b[0m\n\u001b[0;31m    \u001b[0m\n\u001b[0m    ^\u001b[0m\n\u001b[0;31mSyntaxError\u001b[0m\u001b[0;31m:\u001b[0m incomplete input\n"
     ]
    }
   ],
   "source": [
    "for ii, df in pedestrian_df.groupby('frame_number'): \n",
    "    "
   ]
  },
  {
   "cell_type": "code",
   "execution_count": null,
   "id": "c1c29712",
   "metadata": {},
   "outputs": [],
   "source": [
    "# density heatmap \n",
    "x,y = (pedestrian_df[['mapped_x1', 'mapped_y1']].values[:,0],\n",
    "       pedestrian_df[['mapped_x1', 'mapped_y1']].values[:,1])\n",
    "heatmap, xedges, yedges = np.histogram2d(x, y, bins=50)\n",
    "extent = [xedges[0], xedges[-1], yedges[0], yedges[-1]]\n",
    "\n",
    "plt.clf()\n",
    "plt.imshow(heatmap.T, extent=extent, origin='lower')\n",
    "plt.show()"
   ]
  },
  {
   "cell_type": "code",
   "execution_count": null,
   "id": "606c5880-d0ae-457c-b17d-d225b6a5063a",
   "metadata": {},
   "outputs": [],
   "source": []
  },
  {
   "cell_type": "markdown",
   "id": "08a9fd0f",
   "metadata": {},
   "source": [
    "# Evaluation (Converting to MOTS challenge format)\n",
    "The file format should be the same as the ground truth file, which is a CSV text-file containing one object instance per line. Each line must contain 10 values:\n",
    "\n",
    "```\n",
    "<frame>, <id>, <bb_left>, <bb_top>, <bb_width>, <bb_height>, <conf>, <x>, <y>, <z>\n",
    "```\n",
    "The conf value contains the detection confidence in the det.txt files. For the ground truth, it acts as a flag whether the entry is to be considered. A value of 0 means that this particular instance is ignored in the evaluation, while any other value can be used to mark it as active. For submitted results, all lines in the .txt file are considered. The world coordinates x,y,z are ignored for the 2D challenge and can be filled with -1. Similarly, the bounding boxes are ignored for the 3D challenge. However, each line is still required to contain 10 values.\n",
    "\n",
    "All frame numbers, target IDs and bounding boxes are 1-based. Here is an example:\n",
    "```\n",
    "Tracking with bounding boxes\n",
    "(MOT15, MOT16, MOT17, MOT20)\n",
    "  1, 3, 794.27, 247.59, 71.245, 174.88, -1, -1, -1, -1\n",
    "  1, 6, 1648.1, 119.61, 66.504, 163.24, -1, -1, -1, -1\n",
    "  1, 8, 875.49, 399.98, 95.303, 233.93, -1, -1, -1, -1\n",
    "  ...\n",
    "```"
   ]
  },
  {
   "cell_type": "code",
   "execution_count": 16,
   "id": "c12d52de",
   "metadata": {},
   "outputs": [
    {
     "data": {
      "text/html": [
       "<div>\n",
       "<style scoped>\n",
       "    .dataframe tbody tr th:only-of-type {\n",
       "        vertical-align: middle;\n",
       "    }\n",
       "\n",
       "    .dataframe tbody tr th {\n",
       "        vertical-align: top;\n",
       "    }\n",
       "\n",
       "    .dataframe thead th {\n",
       "        text-align: right;\n",
       "    }\n",
       "</style>\n",
       "<table border=\"1\" class=\"dataframe\">\n",
       "  <thead>\n",
       "    <tr style=\"text-align: right;\">\n",
       "      <th></th>\n",
       "      <th>bbox_x1</th>\n",
       "      <th>bbox_y1</th>\n",
       "      <th>bbox_x2</th>\n",
       "      <th>bbox_y2</th>\n",
       "      <th>person_id</th>\n",
       "      <th>crowd_count</th>\n",
       "      <th>frame_number</th>\n",
       "    </tr>\n",
       "  </thead>\n",
       "  <tbody>\n",
       "    <tr>\n",
       "      <th>0</th>\n",
       "      <td>353</td>\n",
       "      <td>420</td>\n",
       "      <td>392</td>\n",
       "      <td>524</td>\n",
       "      <td>1</td>\n",
       "      <td>68</td>\n",
       "      <td>2</td>\n",
       "    </tr>\n",
       "  </tbody>\n",
       "</table>\n",
       "</div>"
      ],
      "text/plain": [
       "   bbox_x1  bbox_y1  bbox_x2  bbox_y2  person_id  crowd_count  frame_number\n",
       "0      353      420      392      524          1           68             2"
      ]
     },
     "execution_count": 16,
     "metadata": {},
     "output_type": "execute_result"
    }
   ],
   "source": [
    "tracker_out_df.head(1)"
   ]
  },
  {
   "cell_type": "code",
   "execution_count": 18,
   "id": "4c083cc6",
   "metadata": {},
   "outputs": [
    {
     "data": {
      "text/html": [
       "<div>\n",
       "<style scoped>\n",
       "    .dataframe tbody tr th:only-of-type {\n",
       "        vertical-align: middle;\n",
       "    }\n",
       "\n",
       "    .dataframe tbody tr th {\n",
       "        vertical-align: top;\n",
       "    }\n",
       "\n",
       "    .dataframe thead th {\n",
       "        text-align: right;\n",
       "    }\n",
       "</style>\n",
       "<table border=\"1\" class=\"dataframe\">\n",
       "  <thead>\n",
       "    <tr style=\"text-align: right;\">\n",
       "      <th></th>\n",
       "      <th>frame_number</th>\n",
       "      <th>person_id</th>\n",
       "      <th>bbox_x1</th>\n",
       "      <th>bbox_y1</th>\n",
       "      <th>bbox_w</th>\n",
       "      <th>bbox_h</th>\n",
       "      <th>conf</th>\n",
       "      <th>x</th>\n",
       "      <th>y</th>\n",
       "      <th>z</th>\n",
       "    </tr>\n",
       "  </thead>\n",
       "  <tbody>\n",
       "    <tr>\n",
       "      <th>0</th>\n",
       "      <td>2</td>\n",
       "      <td>1</td>\n",
       "      <td>353</td>\n",
       "      <td>420</td>\n",
       "      <td>39</td>\n",
       "      <td>104</td>\n",
       "      <td>1</td>\n",
       "      <td>-1</td>\n",
       "      <td>-1</td>\n",
       "      <td>-1</td>\n",
       "    </tr>\n",
       "  </tbody>\n",
       "</table>\n",
       "</div>"
      ],
      "text/plain": [
       "   frame_number  person_id  bbox_x1  bbox_y1  bbox_w  bbox_h  conf  x  y  z\n",
       "0             2          1      353      420      39     104     1 -1 -1 -1"
      ]
     },
     "execution_count": 18,
     "metadata": {},
     "output_type": "execute_result"
    }
   ],
   "source": [
    "txt_df = tracker_out_df.copy()\n",
    "txt_df['bbox_w'] = txt_df['bbox_x2'] - txt_df['bbox_x1']\n",
    "txt_df['bbox_h'] = txt_df['bbox_y2'] - txt_df['bbox_y1']\n",
    "txt_df['conf'] = 1\n",
    "txt_df['x'] = -1\n",
    "txt_df['y'] = -1\n",
    "txt_df['z'] = -1\n",
    "txt_df[['frame_number', 'person_id', 'bbox_x1', 'bbox_y1', 'bbox_w', 'bbox_h', 'conf', 'x', 'y', 'z']].head(1)"
   ]
  },
  {
   "cell_type": "code",
   "execution_count": 20,
   "id": "9b99df47",
   "metadata": {},
   "outputs": [],
   "source": [
    "txt_df[['frame_number', 'person_id', 'bbox_x1', 'bbox_y1', 'bbox_w', 'bbox_h', 'conf', 'x', 'y', 'z']].to_csv(args.output_txt_path, \n",
    "                                                                                                              header=None, \n",
    "                                                                                                              index=None, \n",
    "                                                                                                              sep=',', \n",
    "                                                                                                              mode='w')"
   ]
  },
  {
   "cell_type": "code",
   "execution_count": 21,
   "id": "e8f4d594",
   "metadata": {},
   "outputs": [
    {
     "data": {
      "text/plain": [
       "'videos/MOT20/train/MOT20-03/img1/out_2022-10-24_17.17.22.182574.txt'"
      ]
     },
     "execution_count": 21,
     "metadata": {},
     "output_type": "execute_result"
    }
   ],
   "source": [
    "args.output_txt_path"
   ]
  },
  {
   "cell_type": "code",
   "execution_count": null,
   "id": "d5f7d416",
   "metadata": {},
   "outputs": [],
   "source": []
  },
  {
   "cell_type": "code",
   "execution_count": null,
   "id": "5a72b176",
   "metadata": {},
   "outputs": [],
   "source": []
  },
  {
   "cell_type": "code",
   "execution_count": null,
   "id": "cebb34de",
   "metadata": {},
   "outputs": [],
   "source": []
  },
  {
   "cell_type": "code",
   "execution_count": null,
   "id": "31561916",
   "metadata": {},
   "outputs": [],
   "source": []
  },
  {
   "cell_type": "markdown",
   "id": "e1d6dc5b",
   "metadata": {},
   "source": [
    "# yolov7 tiny + deepsort params explore"
   ]
  },
  {
   "cell_type": "code",
   "execution_count": null,
   "id": "47434304",
   "metadata": {},
   "outputs": [
    {
     "name": "stderr",
     "output_type": "stream",
     "text": [
      "/home/vivian/anaconda3/envs/pedestrian-test/lib/python3.10/site-packages/pl_bolts/models/detection/yolo/yolo_config.py:118: UserWarning: Unknown YOLO configuration variable: objectness_smooth\n",
      "  warn(\"Unknown YOLO configuration variable: \" + key)\n",
      "Loading weights from Darknet model version 0.2.5 that has been trained on 0 images.\n"
     ]
    },
    {
     "name": "stdout",
     "output_type": "stream",
     "text": [
      "################\n",
      "conf_thres, max_cos_dist, max_iou_dist\n",
      "0.01 0.05 0.3\n",
      "2022-10-25_22.37.22.724378\n",
      "Loading video from videos/MOT20/train/MOT20-05/img1/%06d.jpg...\n",
      "Loaded video has 3315 frames at FPS 25, size 1654x1080\n"
     ]
    },
    {
     "data": {
      "application/vnd.jupyter.widget-view+json": {
       "model_id": "e28a1a486c534b7f814aad228b5492aa",
       "version_major": 2,
       "version_minor": 0
      },
      "text/plain": [
       "  0%|          | 0/3315 [00:00<?, ?it/s]"
      ]
     },
     "metadata": {},
     "output_type": "display_data"
    },
    {
     "name": "stderr",
     "output_type": "stream",
     "text": [
      "/home/vivian/anaconda3/envs/pedestrian-test/lib/python3.10/site-packages/pl_bolts/models/detection/yolo/yolo_config.py:118: UserWarning: Unknown YOLO configuration variable: objectness_smooth\n",
      "  warn(\"Unknown YOLO configuration variable: \" + key)\n",
      "Loading weights from Darknet model version 0.2.5 that has been trained on 0 images.\n"
     ]
    },
    {
     "name": "stdout",
     "output_type": "stream",
     "text": [
      "################\n",
      "conf_thres, max_cos_dist, max_iou_dist\n",
      "0.01 0.05 0.5\n",
      "2022-10-25_22.59.54.188765\n",
      "Loading video from videos/MOT20/train/MOT20-05/img1/%06d.jpg...\n",
      "Loaded video has 3315 frames at FPS 25, size 1654x1080\n"
     ]
    },
    {
     "data": {
      "application/vnd.jupyter.widget-view+json": {
       "model_id": "2183f32ef98f427693115ddf2ddc3884",
       "version_major": 2,
       "version_minor": 0
      },
      "text/plain": [
       "  0%|          | 0/3315 [00:00<?, ?it/s]"
      ]
     },
     "metadata": {},
     "output_type": "display_data"
    },
    {
     "name": "stderr",
     "output_type": "stream",
     "text": [
      "/home/vivian/anaconda3/envs/pedestrian-test/lib/python3.10/site-packages/pl_bolts/models/detection/yolo/yolo_config.py:118: UserWarning: Unknown YOLO configuration variable: objectness_smooth\n",
      "  warn(\"Unknown YOLO configuration variable: \" + key)\n",
      "Loading weights from Darknet model version 0.2.5 that has been trained on 0 images.\n"
     ]
    },
    {
     "name": "stdout",
     "output_type": "stream",
     "text": [
      "################\n",
      "conf_thres, max_cos_dist, max_iou_dist\n",
      "0.01 0.05 0.7\n",
      "2022-10-25_23.22.21.312317\n",
      "Loading video from videos/MOT20/train/MOT20-05/img1/%06d.jpg...\n",
      "Loaded video has 3315 frames at FPS 25, size 1654x1080\n"
     ]
    },
    {
     "data": {
      "application/vnd.jupyter.widget-view+json": {
       "model_id": "62eeb6646b864d87932e02d5ebf4cd8a",
       "version_major": 2,
       "version_minor": 0
      },
      "text/plain": [
       "  0%|          | 0/3315 [00:00<?, ?it/s]"
      ]
     },
     "metadata": {},
     "output_type": "display_data"
    },
    {
     "name": "stderr",
     "output_type": "stream",
     "text": [
      "/home/vivian/anaconda3/envs/pedestrian-test/lib/python3.10/site-packages/pl_bolts/models/detection/yolo/yolo_config.py:118: UserWarning: Unknown YOLO configuration variable: objectness_smooth\n",
      "  warn(\"Unknown YOLO configuration variable: \" + key)\n",
      "Loading weights from Darknet model version 0.2.5 that has been trained on 0 images.\n"
     ]
    },
    {
     "name": "stdout",
     "output_type": "stream",
     "text": [
      "################\n",
      "conf_thres, max_cos_dist, max_iou_dist\n",
      "0.01 0.1 0.3\n",
      "2022-10-25_23.44.38.640396\n",
      "Loading video from videos/MOT20/train/MOT20-05/img1/%06d.jpg...\n",
      "Loaded video has 3315 frames at FPS 25, size 1654x1080\n"
     ]
    },
    {
     "data": {
      "application/vnd.jupyter.widget-view+json": {
       "model_id": "8e81e841b8a947b7948a78599db32175",
       "version_major": 2,
       "version_minor": 0
      },
      "text/plain": [
       "  0%|          | 0/3315 [00:00<?, ?it/s]"
      ]
     },
     "metadata": {},
     "output_type": "display_data"
    },
    {
     "name": "stderr",
     "output_type": "stream",
     "text": [
      "/home/vivian/anaconda3/envs/pedestrian-test/lib/python3.10/site-packages/pl_bolts/models/detection/yolo/yolo_config.py:118: UserWarning: Unknown YOLO configuration variable: objectness_smooth\n",
      "  warn(\"Unknown YOLO configuration variable: \" + key)\n",
      "Loading weights from Darknet model version 0.2.5 that has been trained on 0 images.\n"
     ]
    },
    {
     "name": "stdout",
     "output_type": "stream",
     "text": [
      "################\n",
      "conf_thres, max_cos_dist, max_iou_dist\n",
      "0.01 0.1 0.5\n",
      "2022-10-26_00.06.49.930444\n",
      "Loading video from videos/MOT20/train/MOT20-05/img1/%06d.jpg...\n",
      "Loaded video has 3315 frames at FPS 25, size 1654x1080\n"
     ]
    },
    {
     "data": {
      "application/vnd.jupyter.widget-view+json": {
       "model_id": "a100823a9e614226b67eb73e75e744d0",
       "version_major": 2,
       "version_minor": 0
      },
      "text/plain": [
       "  0%|          | 0/3315 [00:00<?, ?it/s]"
      ]
     },
     "metadata": {},
     "output_type": "display_data"
    },
    {
     "name": "stderr",
     "output_type": "stream",
     "text": [
      "/home/vivian/anaconda3/envs/pedestrian-test/lib/python3.10/site-packages/pl_bolts/models/detection/yolo/yolo_config.py:118: UserWarning: Unknown YOLO configuration variable: objectness_smooth\n",
      "  warn(\"Unknown YOLO configuration variable: \" + key)\n",
      "Loading weights from Darknet model version 0.2.5 that has been trained on 0 images.\n"
     ]
    },
    {
     "name": "stdout",
     "output_type": "stream",
     "text": [
      "################\n",
      "conf_thres, max_cos_dist, max_iou_dist\n",
      "0.01 0.1 0.7\n",
      "2022-10-26_00.29.01.314908\n",
      "Loading video from videos/MOT20/train/MOT20-05/img1/%06d.jpg...\n",
      "Loaded video has 3315 frames at FPS 25, size 1654x1080\n"
     ]
    },
    {
     "data": {
      "application/vnd.jupyter.widget-view+json": {
       "model_id": "d2978b99c40f48afbd59e2ed729d0260",
       "version_major": 2,
       "version_minor": 0
      },
      "text/plain": [
       "  0%|          | 0/3315 [00:00<?, ?it/s]"
      ]
     },
     "metadata": {},
     "output_type": "display_data"
    },
    {
     "name": "stderr",
     "output_type": "stream",
     "text": [
      "/home/vivian/anaconda3/envs/pedestrian-test/lib/python3.10/site-packages/pl_bolts/models/detection/yolo/yolo_config.py:118: UserWarning: Unknown YOLO configuration variable: objectness_smooth\n",
      "  warn(\"Unknown YOLO configuration variable: \" + key)\n",
      "Loading weights from Darknet model version 0.2.5 that has been trained on 0 images.\n"
     ]
    },
    {
     "name": "stdout",
     "output_type": "stream",
     "text": [
      "################\n",
      "conf_thres, max_cos_dist, max_iou_dist\n",
      "0.01 0.2 0.3\n",
      "2022-10-26_00.51.10.911551\n",
      "Loading video from videos/MOT20/train/MOT20-05/img1/%06d.jpg...\n",
      "Loaded video has 3315 frames at FPS 25, size 1654x1080\n"
     ]
    },
    {
     "data": {
      "application/vnd.jupyter.widget-view+json": {
       "model_id": "d792af7d41bd4acaacaf621f64cad342",
       "version_major": 2,
       "version_minor": 0
      },
      "text/plain": [
       "  0%|          | 0/3315 [00:00<?, ?it/s]"
      ]
     },
     "metadata": {},
     "output_type": "display_data"
    },
    {
     "name": "stderr",
     "output_type": "stream",
     "text": [
      "/home/vivian/anaconda3/envs/pedestrian-test/lib/python3.10/site-packages/pl_bolts/models/detection/yolo/yolo_config.py:118: UserWarning: Unknown YOLO configuration variable: objectness_smooth\n",
      "  warn(\"Unknown YOLO configuration variable: \" + key)\n",
      "Loading weights from Darknet model version 0.2.5 that has been trained on 0 images.\n"
     ]
    },
    {
     "name": "stdout",
     "output_type": "stream",
     "text": [
      "################\n",
      "conf_thres, max_cos_dist, max_iou_dist\n",
      "0.01 0.2 0.5\n",
      "2022-10-26_01.14.20.047720\n",
      "Loading video from videos/MOT20/train/MOT20-05/img1/%06d.jpg...\n",
      "Loaded video has 3315 frames at FPS 25, size 1654x1080\n"
     ]
    },
    {
     "data": {
      "application/vnd.jupyter.widget-view+json": {
       "model_id": "f20fcb9358564ddaabe49427ee125804",
       "version_major": 2,
       "version_minor": 0
      },
      "text/plain": [
       "  0%|          | 0/3315 [00:00<?, ?it/s]"
      ]
     },
     "metadata": {},
     "output_type": "display_data"
    },
    {
     "name": "stderr",
     "output_type": "stream",
     "text": [
      "/home/vivian/anaconda3/envs/pedestrian-test/lib/python3.10/site-packages/pl_bolts/models/detection/yolo/yolo_config.py:118: UserWarning: Unknown YOLO configuration variable: objectness_smooth\n",
      "  warn(\"Unknown YOLO configuration variable: \" + key)\n",
      "Loading weights from Darknet model version 0.2.5 that has been trained on 0 images.\n"
     ]
    },
    {
     "name": "stdout",
     "output_type": "stream",
     "text": [
      "################\n",
      "conf_thres, max_cos_dist, max_iou_dist\n",
      "0.01 0.2 0.7\n",
      "2022-10-26_01.37.15.792533\n",
      "Loading video from videos/MOT20/train/MOT20-05/img1/%06d.jpg...\n",
      "Loaded video has 3315 frames at FPS 25, size 1654x1080\n"
     ]
    },
    {
     "data": {
      "application/vnd.jupyter.widget-view+json": {
       "model_id": "0649bc9c6f284b0f8309c063a6596de8",
       "version_major": 2,
       "version_minor": 0
      },
      "text/plain": [
       "  0%|          | 0/3315 [00:00<?, ?it/s]"
      ]
     },
     "metadata": {},
     "output_type": "display_data"
    },
    {
     "name": "stderr",
     "output_type": "stream",
     "text": [
      "/home/vivian/anaconda3/envs/pedestrian-test/lib/python3.10/site-packages/pl_bolts/models/detection/yolo/yolo_config.py:118: UserWarning: Unknown YOLO configuration variable: objectness_smooth\n",
      "  warn(\"Unknown YOLO configuration variable: \" + key)\n",
      "Loading weights from Darknet model version 0.2.5 that has been trained on 0 images.\n"
     ]
    },
    {
     "name": "stdout",
     "output_type": "stream",
     "text": [
      "################\n",
      "conf_thres, max_cos_dist, max_iou_dist\n",
      "0.01 0.5 0.3\n",
      "2022-10-26_02.00.10.870584\n",
      "Loading video from videos/MOT20/train/MOT20-05/img1/%06d.jpg...\n",
      "Loaded video has 3315 frames at FPS 25, size 1654x1080\n"
     ]
    },
    {
     "data": {
      "application/vnd.jupyter.widget-view+json": {
       "model_id": "bd1209261b4d470ba8831cd6e10abedb",
       "version_major": 2,
       "version_minor": 0
      },
      "text/plain": [
       "  0%|          | 0/3315 [00:00<?, ?it/s]"
      ]
     },
     "metadata": {},
     "output_type": "display_data"
    },
    {
     "name": "stderr",
     "output_type": "stream",
     "text": [
      "/home/vivian/anaconda3/envs/pedestrian-test/lib/python3.10/site-packages/pl_bolts/models/detection/yolo/yolo_config.py:118: UserWarning: Unknown YOLO configuration variable: objectness_smooth\n",
      "  warn(\"Unknown YOLO configuration variable: \" + key)\n",
      "Loading weights from Darknet model version 0.2.5 that has been trained on 0 images.\n"
     ]
    },
    {
     "name": "stdout",
     "output_type": "stream",
     "text": [
      "################\n",
      "conf_thres, max_cos_dist, max_iou_dist\n",
      "0.01 0.5 0.5\n",
      "2022-10-26_02.23.03.591107\n",
      "Loading video from videos/MOT20/train/MOT20-05/img1/%06d.jpg...\n",
      "Loaded video has 3315 frames at FPS 25, size 1654x1080\n"
     ]
    },
    {
     "data": {
      "application/vnd.jupyter.widget-view+json": {
       "model_id": "1a42193386e54651bff74f0c1d26043a",
       "version_major": 2,
       "version_minor": 0
      },
      "text/plain": [
       "  0%|          | 0/3315 [00:00<?, ?it/s]"
      ]
     },
     "metadata": {},
     "output_type": "display_data"
    },
    {
     "name": "stderr",
     "output_type": "stream",
     "text": [
      "/home/vivian/anaconda3/envs/pedestrian-test/lib/python3.10/site-packages/pl_bolts/models/detection/yolo/yolo_config.py:118: UserWarning: Unknown YOLO configuration variable: objectness_smooth\n",
      "  warn(\"Unknown YOLO configuration variable: \" + key)\n",
      "Loading weights from Darknet model version 0.2.5 that has been trained on 0 images.\n"
     ]
    },
    {
     "name": "stdout",
     "output_type": "stream",
     "text": [
      "################\n",
      "conf_thres, max_cos_dist, max_iou_dist\n",
      "0.01 0.5 0.7\n",
      "2022-10-26_02.45.58.885229\n",
      "Loading video from videos/MOT20/train/MOT20-05/img1/%06d.jpg...\n",
      "Loaded video has 3315 frames at FPS 25, size 1654x1080\n"
     ]
    },
    {
     "data": {
      "application/vnd.jupyter.widget-view+json": {
       "model_id": "c3130eadeb2f4d8ea415a4a488ea79db",
       "version_major": 2,
       "version_minor": 0
      },
      "text/plain": [
       "  0%|          | 0/3315 [00:00<?, ?it/s]"
      ]
     },
     "metadata": {},
     "output_type": "display_data"
    },
    {
     "name": "stderr",
     "output_type": "stream",
     "text": [
      "/home/vivian/anaconda3/envs/pedestrian-test/lib/python3.10/site-packages/pl_bolts/models/detection/yolo/yolo_config.py:118: UserWarning: Unknown YOLO configuration variable: objectness_smooth\n",
      "  warn(\"Unknown YOLO configuration variable: \" + key)\n",
      "Loading weights from Darknet model version 0.2.5 that has been trained on 0 images.\n"
     ]
    },
    {
     "name": "stdout",
     "output_type": "stream",
     "text": [
      "################\n",
      "conf_thres, max_cos_dist, max_iou_dist\n",
      "0.1 0.05 0.3\n",
      "2022-10-26_03.08.50.406674\n",
      "Loading video from videos/MOT20/train/MOT20-05/img1/%06d.jpg...\n",
      "Loaded video has 3315 frames at FPS 25, size 1654x1080\n"
     ]
    },
    {
     "data": {
      "application/vnd.jupyter.widget-view+json": {
       "model_id": "1763b97ba346439f92fcff87d0750fc1",
       "version_major": 2,
       "version_minor": 0
      },
      "text/plain": [
       "  0%|          | 0/3315 [00:00<?, ?it/s]"
      ]
     },
     "metadata": {},
     "output_type": "display_data"
    },
    {
     "name": "stderr",
     "output_type": "stream",
     "text": [
      "/home/vivian/anaconda3/envs/pedestrian-test/lib/python3.10/site-packages/pl_bolts/models/detection/yolo/yolo_config.py:118: UserWarning: Unknown YOLO configuration variable: objectness_smooth\n",
      "  warn(\"Unknown YOLO configuration variable: \" + key)\n",
      "Loading weights from Darknet model version 0.2.5 that has been trained on 0 images.\n"
     ]
    },
    {
     "name": "stdout",
     "output_type": "stream",
     "text": [
      "################\n",
      "conf_thres, max_cos_dist, max_iou_dist\n",
      "0.1 0.05 0.5\n",
      "2022-10-26_03.31.01.704861\n",
      "Loading video from videos/MOT20/train/MOT20-05/img1/%06d.jpg...\n",
      "Loaded video has 3315 frames at FPS 25, size 1654x1080\n"
     ]
    },
    {
     "data": {
      "application/vnd.jupyter.widget-view+json": {
       "model_id": "dcc50d5737fd4375ac00f3e37186e339",
       "version_major": 2,
       "version_minor": 0
      },
      "text/plain": [
       "  0%|          | 0/3315 [00:00<?, ?it/s]"
      ]
     },
     "metadata": {},
     "output_type": "display_data"
    },
    {
     "name": "stderr",
     "output_type": "stream",
     "text": [
      "/home/vivian/anaconda3/envs/pedestrian-test/lib/python3.10/site-packages/pl_bolts/models/detection/yolo/yolo_config.py:118: UserWarning: Unknown YOLO configuration variable: objectness_smooth\n",
      "  warn(\"Unknown YOLO configuration variable: \" + key)\n",
      "Loading weights from Darknet model version 0.2.5 that has been trained on 0 images.\n"
     ]
    },
    {
     "name": "stdout",
     "output_type": "stream",
     "text": [
      "################\n",
      "conf_thres, max_cos_dist, max_iou_dist\n",
      "0.1 0.05 0.7\n",
      "2022-10-26_03.53.14.323985\n",
      "Loading video from videos/MOT20/train/MOT20-05/img1/%06d.jpg...\n",
      "Loaded video has 3315 frames at FPS 25, size 1654x1080\n"
     ]
    },
    {
     "data": {
      "application/vnd.jupyter.widget-view+json": {
       "model_id": "2d8424a853cf4162b8d07e630ee3abd3",
       "version_major": 2,
       "version_minor": 0
      },
      "text/plain": [
       "  0%|          | 0/3315 [00:00<?, ?it/s]"
      ]
     },
     "metadata": {},
     "output_type": "display_data"
    },
    {
     "name": "stderr",
     "output_type": "stream",
     "text": [
      "/home/vivian/anaconda3/envs/pedestrian-test/lib/python3.10/site-packages/pl_bolts/models/detection/yolo/yolo_config.py:118: UserWarning: Unknown YOLO configuration variable: objectness_smooth\n",
      "  warn(\"Unknown YOLO configuration variable: \" + key)\n",
      "Loading weights from Darknet model version 0.2.5 that has been trained on 0 images.\n"
     ]
    },
    {
     "name": "stdout",
     "output_type": "stream",
     "text": [
      "################\n",
      "conf_thres, max_cos_dist, max_iou_dist\n",
      "0.1 0.1 0.3\n",
      "2022-10-26_04.15.23.294726\n",
      "Loading video from videos/MOT20/train/MOT20-05/img1/%06d.jpg...\n",
      "Loaded video has 3315 frames at FPS 25, size 1654x1080\n"
     ]
    },
    {
     "data": {
      "application/vnd.jupyter.widget-view+json": {
       "model_id": "62f46458155f472e9b212d8b807d31c0",
       "version_major": 2,
       "version_minor": 0
      },
      "text/plain": [
       "  0%|          | 0/3315 [00:00<?, ?it/s]"
      ]
     },
     "metadata": {},
     "output_type": "display_data"
    },
    {
     "name": "stdout",
     "output_type": "stream",
     "text": [
      "################\n",
      "conf_thres, max_cos_dist, max_iou_dist\n",
      "0.1 0.1 0.5\n",
      "2022-10-26_04.37.24.343860\n",
      "Loading video from videos/MOT20/train/MOT20-05/img1/%06d.jpg...\n",
      "Loaded video has 3315 frames at FPS 25, size 1654x1080\n"
     ]
    },
    {
     "name": "stderr",
     "output_type": "stream",
     "text": [
      "/home/vivian/anaconda3/envs/pedestrian-test/lib/python3.10/site-packages/pl_bolts/models/detection/yolo/yolo_config.py:118: UserWarning: Unknown YOLO configuration variable: objectness_smooth\n",
      "  warn(\"Unknown YOLO configuration variable: \" + key)\n",
      "Loading weights from Darknet model version 0.2.5 that has been trained on 0 images.\n"
     ]
    },
    {
     "data": {
      "application/vnd.jupyter.widget-view+json": {
       "model_id": "ce4b65a629174f9f84d9faceece2da94",
       "version_major": 2,
       "version_minor": 0
      },
      "text/plain": [
       "  0%|          | 0/3315 [00:00<?, ?it/s]"
      ]
     },
     "metadata": {},
     "output_type": "display_data"
    },
    {
     "name": "stderr",
     "output_type": "stream",
     "text": [
      "/home/vivian/anaconda3/envs/pedestrian-test/lib/python3.10/site-packages/pl_bolts/models/detection/yolo/yolo_config.py:118: UserWarning: Unknown YOLO configuration variable: objectness_smooth\n",
      "  warn(\"Unknown YOLO configuration variable: \" + key)\n",
      "Loading weights from Darknet model version 0.2.5 that has been trained on 0 images.\n"
     ]
    },
    {
     "name": "stdout",
     "output_type": "stream",
     "text": [
      "################\n",
      "conf_thres, max_cos_dist, max_iou_dist\n",
      "0.1 0.1 0.7\n",
      "2022-10-26_04.59.35.100344\n",
      "Loading video from videos/MOT20/train/MOT20-05/img1/%06d.jpg...\n",
      "Loaded video has 3315 frames at FPS 25, size 1654x1080\n"
     ]
    },
    {
     "data": {
      "application/vnd.jupyter.widget-view+json": {
       "model_id": "88cd170f45794917b25a1c18f85f0994",
       "version_major": 2,
       "version_minor": 0
      },
      "text/plain": [
       "  0%|          | 0/3315 [00:00<?, ?it/s]"
      ]
     },
     "metadata": {},
     "output_type": "display_data"
    },
    {
     "name": "stderr",
     "output_type": "stream",
     "text": [
      "/home/vivian/anaconda3/envs/pedestrian-test/lib/python3.10/site-packages/pl_bolts/models/detection/yolo/yolo_config.py:118: UserWarning: Unknown YOLO configuration variable: objectness_smooth\n",
      "  warn(\"Unknown YOLO configuration variable: \" + key)\n",
      "Loading weights from Darknet model version 0.2.5 that has been trained on 0 images.\n"
     ]
    },
    {
     "name": "stdout",
     "output_type": "stream",
     "text": [
      "################\n",
      "conf_thres, max_cos_dist, max_iou_dist\n",
      "0.1 0.2 0.3\n",
      "2022-10-26_05.21.57.931876\n",
      "Loading video from videos/MOT20/train/MOT20-05/img1/%06d.jpg...\n",
      "Loaded video has 3315 frames at FPS 25, size 1654x1080\n"
     ]
    },
    {
     "data": {
      "application/vnd.jupyter.widget-view+json": {
       "model_id": "0a3a2c57e13f477490720c9fd7278dd9",
       "version_major": 2,
       "version_minor": 0
      },
      "text/plain": [
       "  0%|          | 0/3315 [00:00<?, ?it/s]"
      ]
     },
     "metadata": {},
     "output_type": "display_data"
    },
    {
     "name": "stderr",
     "output_type": "stream",
     "text": [
      "/home/vivian/anaconda3/envs/pedestrian-test/lib/python3.10/site-packages/pl_bolts/models/detection/yolo/yolo_config.py:118: UserWarning: Unknown YOLO configuration variable: objectness_smooth\n",
      "  warn(\"Unknown YOLO configuration variable: \" + key)\n",
      "Loading weights from Darknet model version 0.2.5 that has been trained on 0 images.\n"
     ]
    },
    {
     "name": "stdout",
     "output_type": "stream",
     "text": [
      "################\n",
      "conf_thres, max_cos_dist, max_iou_dist\n",
      "0.1 0.2 0.5\n",
      "2022-10-26_05.44.58.065156\n",
      "Loading video from videos/MOT20/train/MOT20-05/img1/%06d.jpg...\n",
      "Loaded video has 3315 frames at FPS 25, size 1654x1080\n"
     ]
    },
    {
     "data": {
      "application/vnd.jupyter.widget-view+json": {
       "model_id": "4876f6e72d264dc2adfaad1c202edd43",
       "version_major": 2,
       "version_minor": 0
      },
      "text/plain": [
       "  0%|          | 0/3315 [00:00<?, ?it/s]"
      ]
     },
     "metadata": {},
     "output_type": "display_data"
    },
    {
     "name": "stderr",
     "output_type": "stream",
     "text": [
      "/home/vivian/anaconda3/envs/pedestrian-test/lib/python3.10/site-packages/pl_bolts/models/detection/yolo/yolo_config.py:118: UserWarning: Unknown YOLO configuration variable: objectness_smooth\n",
      "  warn(\"Unknown YOLO configuration variable: \" + key)\n",
      "Loading weights from Darknet model version 0.2.5 that has been trained on 0 images.\n"
     ]
    },
    {
     "name": "stdout",
     "output_type": "stream",
     "text": [
      "################\n",
      "conf_thres, max_cos_dist, max_iou_dist\n",
      "0.1 0.2 0.7\n",
      "2022-10-26_06.07.51.254285\n",
      "Loading video from videos/MOT20/train/MOT20-05/img1/%06d.jpg...\n",
      "Loaded video has 3315 frames at FPS 25, size 1654x1080\n"
     ]
    },
    {
     "data": {
      "application/vnd.jupyter.widget-view+json": {
       "model_id": "026c8b5ee0e244839d105d3267c0a766",
       "version_major": 2,
       "version_minor": 0
      },
      "text/plain": [
       "  0%|          | 0/3315 [00:00<?, ?it/s]"
      ]
     },
     "metadata": {},
     "output_type": "display_data"
    },
    {
     "name": "stderr",
     "output_type": "stream",
     "text": [
      "/home/vivian/anaconda3/envs/pedestrian-test/lib/python3.10/site-packages/pl_bolts/models/detection/yolo/yolo_config.py:118: UserWarning: Unknown YOLO configuration variable: objectness_smooth\n",
      "  warn(\"Unknown YOLO configuration variable: \" + key)\n",
      "Loading weights from Darknet model version 0.2.5 that has been trained on 0 images.\n"
     ]
    },
    {
     "name": "stdout",
     "output_type": "stream",
     "text": [
      "################\n",
      "conf_thres, max_cos_dist, max_iou_dist\n",
      "0.1 0.5 0.3\n",
      "2022-10-26_06.30.49.642891\n",
      "Loading video from videos/MOT20/train/MOT20-05/img1/%06d.jpg...\n",
      "Loaded video has 3315 frames at FPS 25, size 1654x1080\n"
     ]
    },
    {
     "data": {
      "application/vnd.jupyter.widget-view+json": {
       "model_id": "dea452fbadbc48b59e57493f472fc224",
       "version_major": 2,
       "version_minor": 0
      },
      "text/plain": [
       "  0%|          | 0/3315 [00:00<?, ?it/s]"
      ]
     },
     "metadata": {},
     "output_type": "display_data"
    },
    {
     "name": "stderr",
     "output_type": "stream",
     "text": [
      "/home/vivian/anaconda3/envs/pedestrian-test/lib/python3.10/site-packages/pl_bolts/models/detection/yolo/yolo_config.py:118: UserWarning: Unknown YOLO configuration variable: objectness_smooth\n",
      "  warn(\"Unknown YOLO configuration variable: \" + key)\n",
      "Loading weights from Darknet model version 0.2.5 that has been trained on 0 images.\n"
     ]
    },
    {
     "name": "stdout",
     "output_type": "stream",
     "text": [
      "################\n",
      "conf_thres, max_cos_dist, max_iou_dist\n",
      "0.1 0.5 0.5\n",
      "2022-10-26_06.53.47.171536\n",
      "Loading video from videos/MOT20/train/MOT20-05/img1/%06d.jpg...\n",
      "Loaded video has 3315 frames at FPS 25, size 1654x1080\n"
     ]
    },
    {
     "data": {
      "application/vnd.jupyter.widget-view+json": {
       "model_id": "4674c86aa9ff46c09bb51cafdffcb305",
       "version_major": 2,
       "version_minor": 0
      },
      "text/plain": [
       "  0%|          | 0/3315 [00:00<?, ?it/s]"
      ]
     },
     "metadata": {},
     "output_type": "display_data"
    },
    {
     "name": "stderr",
     "output_type": "stream",
     "text": [
      "/home/vivian/anaconda3/envs/pedestrian-test/lib/python3.10/site-packages/pl_bolts/models/detection/yolo/yolo_config.py:118: UserWarning: Unknown YOLO configuration variable: objectness_smooth\n",
      "  warn(\"Unknown YOLO configuration variable: \" + key)\n",
      "Loading weights from Darknet model version 0.2.5 that has been trained on 0 images.\n"
     ]
    },
    {
     "name": "stdout",
     "output_type": "stream",
     "text": [
      "################\n",
      "conf_thres, max_cos_dist, max_iou_dist\n",
      "0.1 0.5 0.7\n",
      "2022-10-26_07.16.36.693588\n",
      "Loading video from videos/MOT20/train/MOT20-05/img1/%06d.jpg...\n",
      "Loaded video has 3315 frames at FPS 25, size 1654x1080\n"
     ]
    },
    {
     "data": {
      "application/vnd.jupyter.widget-view+json": {
       "model_id": "10ef872ffd984f75974fa87dd629b11a",
       "version_major": 2,
       "version_minor": 0
      },
      "text/plain": [
       "  0%|          | 0/3315 [00:00<?, ?it/s]"
      ]
     },
     "metadata": {},
     "output_type": "display_data"
    },
    {
     "name": "stderr",
     "output_type": "stream",
     "text": [
      "/home/vivian/anaconda3/envs/pedestrian-test/lib/python3.10/site-packages/pl_bolts/models/detection/yolo/yolo_config.py:118: UserWarning: Unknown YOLO configuration variable: objectness_smooth\n",
      "  warn(\"Unknown YOLO configuration variable: \" + key)\n",
      "Loading weights from Darknet model version 0.2.5 that has been trained on 0 images.\n"
     ]
    },
    {
     "name": "stdout",
     "output_type": "stream",
     "text": [
      "################\n",
      "conf_thres, max_cos_dist, max_iou_dist\n",
      "0.2 0.05 0.3\n",
      "2022-10-26_07.39.25.931527\n",
      "Loading video from videos/MOT20/train/MOT20-05/img1/%06d.jpg...\n",
      "Loaded video has 3315 frames at FPS 25, size 1654x1080\n"
     ]
    },
    {
     "data": {
      "application/vnd.jupyter.widget-view+json": {
       "model_id": "363957069bb14b6696b132a32c1664ca",
       "version_major": 2,
       "version_minor": 0
      },
      "text/plain": [
       "  0%|          | 0/3315 [00:00<?, ?it/s]"
      ]
     },
     "metadata": {},
     "output_type": "display_data"
    },
    {
     "name": "stderr",
     "output_type": "stream",
     "text": [
      "/home/vivian/anaconda3/envs/pedestrian-test/lib/python3.10/site-packages/pl_bolts/models/detection/yolo/yolo_config.py:118: UserWarning: Unknown YOLO configuration variable: objectness_smooth\n",
      "  warn(\"Unknown YOLO configuration variable: \" + key)\n",
      "Loading weights from Darknet model version 0.2.5 that has been trained on 0 images.\n"
     ]
    },
    {
     "name": "stdout",
     "output_type": "stream",
     "text": [
      "################\n",
      "conf_thres, max_cos_dist, max_iou_dist\n",
      "0.2 0.05 0.5\n",
      "2022-10-26_08.01.30.658049\n",
      "Loading video from videos/MOT20/train/MOT20-05/img1/%06d.jpg...\n",
      "Loaded video has 3315 frames at FPS 25, size 1654x1080\n"
     ]
    },
    {
     "data": {
      "application/vnd.jupyter.widget-view+json": {
       "model_id": "29e4bc4914ca41b5afe10e9dd9ee1fb4",
       "version_major": 2,
       "version_minor": 0
      },
      "text/plain": [
       "  0%|          | 0/3315 [00:00<?, ?it/s]"
      ]
     },
     "metadata": {},
     "output_type": "display_data"
    },
    {
     "name": "stderr",
     "output_type": "stream",
     "text": [
      "/home/vivian/anaconda3/envs/pedestrian-test/lib/python3.10/site-packages/pl_bolts/models/detection/yolo/yolo_config.py:118: UserWarning: Unknown YOLO configuration variable: objectness_smooth\n",
      "  warn(\"Unknown YOLO configuration variable: \" + key)\n",
      "Loading weights from Darknet model version 0.2.5 that has been trained on 0 images.\n"
     ]
    },
    {
     "name": "stdout",
     "output_type": "stream",
     "text": [
      "################\n",
      "conf_thres, max_cos_dist, max_iou_dist\n",
      "0.2 0.05 0.7\n",
      "2022-10-26_08.23.40.149176\n",
      "Loading video from videos/MOT20/train/MOT20-05/img1/%06d.jpg...\n",
      "Loaded video has 3315 frames at FPS 25, size 1654x1080\n"
     ]
    },
    {
     "data": {
      "application/vnd.jupyter.widget-view+json": {
       "model_id": "39ef0ea6f29d4bfe9735ea3039d5f681",
       "version_major": 2,
       "version_minor": 0
      },
      "text/plain": [
       "  0%|          | 0/3315 [00:00<?, ?it/s]"
      ]
     },
     "metadata": {},
     "output_type": "display_data"
    },
    {
     "name": "stderr",
     "output_type": "stream",
     "text": [
      "/home/vivian/anaconda3/envs/pedestrian-test/lib/python3.10/site-packages/pl_bolts/models/detection/yolo/yolo_config.py:118: UserWarning: Unknown YOLO configuration variable: objectness_smooth\n",
      "  warn(\"Unknown YOLO configuration variable: \" + key)\n",
      "Loading weights from Darknet model version 0.2.5 that has been trained on 0 images.\n"
     ]
    },
    {
     "name": "stdout",
     "output_type": "stream",
     "text": [
      "################\n",
      "conf_thres, max_cos_dist, max_iou_dist\n",
      "0.2 0.1 0.3\n",
      "2022-10-26_08.45.43.521093\n",
      "Loading video from videos/MOT20/train/MOT20-05/img1/%06d.jpg...\n",
      "Loaded video has 3315 frames at FPS 25, size 1654x1080\n"
     ]
    },
    {
     "data": {
      "application/vnd.jupyter.widget-view+json": {
       "model_id": "8aa6aef3889a4cba8a45f9958761e834",
       "version_major": 2,
       "version_minor": 0
      },
      "text/plain": [
       "  0%|          | 0/3315 [00:00<?, ?it/s]"
      ]
     },
     "metadata": {},
     "output_type": "display_data"
    },
    {
     "name": "stderr",
     "output_type": "stream",
     "text": [
      "/home/vivian/anaconda3/envs/pedestrian-test/lib/python3.10/site-packages/pl_bolts/models/detection/yolo/yolo_config.py:118: UserWarning: Unknown YOLO configuration variable: objectness_smooth\n",
      "  warn(\"Unknown YOLO configuration variable: \" + key)\n",
      "Loading weights from Darknet model version 0.2.5 that has been trained on 0 images.\n"
     ]
    },
    {
     "name": "stdout",
     "output_type": "stream",
     "text": [
      "################\n",
      "conf_thres, max_cos_dist, max_iou_dist\n",
      "0.2 0.1 0.5\n",
      "2022-10-26_09.07.38.010194\n",
      "Loading video from videos/MOT20/train/MOT20-05/img1/%06d.jpg...\n",
      "Loaded video has 3315 frames at FPS 25, size 1654x1080\n"
     ]
    },
    {
     "data": {
      "application/vnd.jupyter.widget-view+json": {
       "model_id": "b35d7cf2953640aa8812173dd1d6e458",
       "version_major": 2,
       "version_minor": 0
      },
      "text/plain": [
       "  0%|          | 0/3315 [00:00<?, ?it/s]"
      ]
     },
     "metadata": {},
     "output_type": "display_data"
    },
    {
     "name": "stderr",
     "output_type": "stream",
     "text": [
      "/home/vivian/anaconda3/envs/pedestrian-test/lib/python3.10/site-packages/pl_bolts/models/detection/yolo/yolo_config.py:118: UserWarning: Unknown YOLO configuration variable: objectness_smooth\n",
      "  warn(\"Unknown YOLO configuration variable: \" + key)\n",
      "Loading weights from Darknet model version 0.2.5 that has been trained on 0 images.\n"
     ]
    },
    {
     "name": "stdout",
     "output_type": "stream",
     "text": [
      "################\n",
      "conf_thres, max_cos_dist, max_iou_dist\n",
      "0.2 0.1 0.7\n",
      "2022-10-26_09.29.42.461803\n",
      "Loading video from videos/MOT20/train/MOT20-05/img1/%06d.jpg...\n",
      "Loaded video has 3315 frames at FPS 25, size 1654x1080\n"
     ]
    },
    {
     "data": {
      "application/vnd.jupyter.widget-view+json": {
       "model_id": "e3d08d4640c74eaf8f4ac148f051494a",
       "version_major": 2,
       "version_minor": 0
      },
      "text/plain": [
       "  0%|          | 0/3315 [00:00<?, ?it/s]"
      ]
     },
     "metadata": {},
     "output_type": "display_data"
    },
    {
     "name": "stderr",
     "output_type": "stream",
     "text": [
      "/home/vivian/anaconda3/envs/pedestrian-test/lib/python3.10/site-packages/pl_bolts/models/detection/yolo/yolo_config.py:118: UserWarning: Unknown YOLO configuration variable: objectness_smooth\n",
      "  warn(\"Unknown YOLO configuration variable: \" + key)\n",
      "Loading weights from Darknet model version 0.2.5 that has been trained on 0 images.\n"
     ]
    },
    {
     "name": "stdout",
     "output_type": "stream",
     "text": [
      "################\n",
      "conf_thres, max_cos_dist, max_iou_dist\n",
      "0.2 0.2 0.3\n",
      "2022-10-26_09.51.50.788709\n",
      "Loading video from videos/MOT20/train/MOT20-05/img1/%06d.jpg...\n",
      "Loaded video has 3315 frames at FPS 25, size 1654x1080\n"
     ]
    },
    {
     "data": {
      "application/vnd.jupyter.widget-view+json": {
       "model_id": "f118f36e5bd84f758ed06de8422c5ea6",
       "version_major": 2,
       "version_minor": 0
      },
      "text/plain": [
       "  0%|          | 0/3315 [00:00<?, ?it/s]"
      ]
     },
     "metadata": {},
     "output_type": "display_data"
    },
    {
     "name": "stderr",
     "output_type": "stream",
     "text": [
      "/home/vivian/anaconda3/envs/pedestrian-test/lib/python3.10/site-packages/pl_bolts/models/detection/yolo/yolo_config.py:118: UserWarning: Unknown YOLO configuration variable: objectness_smooth\n",
      "  warn(\"Unknown YOLO configuration variable: \" + key)\n",
      "Loading weights from Darknet model version 0.2.5 that has been trained on 0 images.\n"
     ]
    },
    {
     "name": "stdout",
     "output_type": "stream",
     "text": [
      "################\n",
      "conf_thres, max_cos_dist, max_iou_dist\n",
      "0.2 0.2 0.5\n",
      "2022-10-26_10.14.45.937059\n",
      "Loading video from videos/MOT20/train/MOT20-05/img1/%06d.jpg...\n",
      "Loaded video has 3315 frames at FPS 25, size 1654x1080\n"
     ]
    },
    {
     "data": {
      "application/vnd.jupyter.widget-view+json": {
       "model_id": "0f0dacba2a2845adab2396aa809fd46c",
       "version_major": 2,
       "version_minor": 0
      },
      "text/plain": [
       "  0%|          | 0/3315 [00:00<?, ?it/s]"
      ]
     },
     "metadata": {},
     "output_type": "display_data"
    },
    {
     "name": "stderr",
     "output_type": "stream",
     "text": [
      "/home/vivian/anaconda3/envs/pedestrian-test/lib/python3.10/site-packages/pl_bolts/models/detection/yolo/yolo_config.py:118: UserWarning: Unknown YOLO configuration variable: objectness_smooth\n",
      "  warn(\"Unknown YOLO configuration variable: \" + key)\n",
      "Loading weights from Darknet model version 0.2.5 that has been trained on 0 images.\n"
     ]
    },
    {
     "name": "stdout",
     "output_type": "stream",
     "text": [
      "################\n",
      "conf_thres, max_cos_dist, max_iou_dist\n",
      "0.2 0.2 0.7\n",
      "2022-10-26_10.37.54.423941\n",
      "Loading video from videos/MOT20/train/MOT20-05/img1/%06d.jpg...\n",
      "Loaded video has 3315 frames at FPS 25, size 1654x1080\n"
     ]
    },
    {
     "data": {
      "application/vnd.jupyter.widget-view+json": {
       "model_id": "451d9045ab0847079cdfdb5c887bff90",
       "version_major": 2,
       "version_minor": 0
      },
      "text/plain": [
       "  0%|          | 0/3315 [00:00<?, ?it/s]"
      ]
     },
     "metadata": {},
     "output_type": "display_data"
    },
    {
     "name": "stderr",
     "output_type": "stream",
     "text": [
      "/home/vivian/anaconda3/envs/pedestrian-test/lib/python3.10/site-packages/pl_bolts/models/detection/yolo/yolo_config.py:118: UserWarning: Unknown YOLO configuration variable: objectness_smooth\n",
      "  warn(\"Unknown YOLO configuration variable: \" + key)\n",
      "Loading weights from Darknet model version 0.2.5 that has been trained on 0 images.\n"
     ]
    },
    {
     "name": "stdout",
     "output_type": "stream",
     "text": [
      "################\n",
      "conf_thres, max_cos_dist, max_iou_dist\n",
      "0.2 0.5 0.3\n",
      "2022-10-26_11.00.45.448774\n",
      "Loading video from videos/MOT20/train/MOT20-05/img1/%06d.jpg...\n",
      "Loaded video has 3315 frames at FPS 25, size 1654x1080\n"
     ]
    },
    {
     "data": {
      "application/vnd.jupyter.widget-view+json": {
       "model_id": "9489f91ea73a46dfba315827e41a48ac",
       "version_major": 2,
       "version_minor": 0
      },
      "text/plain": [
       "  0%|          | 0/3315 [00:00<?, ?it/s]"
      ]
     },
     "metadata": {},
     "output_type": "display_data"
    },
    {
     "name": "stderr",
     "output_type": "stream",
     "text": [
      "/home/vivian/anaconda3/envs/pedestrian-test/lib/python3.10/site-packages/pl_bolts/models/detection/yolo/yolo_config.py:118: UserWarning: Unknown YOLO configuration variable: objectness_smooth\n",
      "  warn(\"Unknown YOLO configuration variable: \" + key)\n",
      "Loading weights from Darknet model version 0.2.5 that has been trained on 0 images.\n"
     ]
    },
    {
     "name": "stdout",
     "output_type": "stream",
     "text": [
      "################\n",
      "conf_thres, max_cos_dist, max_iou_dist\n",
      "0.2 0.5 0.5\n",
      "2022-10-26_11.23.41.701667\n",
      "Loading video from videos/MOT20/train/MOT20-05/img1/%06d.jpg...\n",
      "Loaded video has 3315 frames at FPS 25, size 1654x1080\n"
     ]
    },
    {
     "data": {
      "application/vnd.jupyter.widget-view+json": {
       "model_id": "2f272c0c4a0f4a85be561a781128a774",
       "version_major": 2,
       "version_minor": 0
      },
      "text/plain": [
       "  0%|          | 0/3315 [00:00<?, ?it/s]"
      ]
     },
     "metadata": {},
     "output_type": "display_data"
    },
    {
     "name": "stderr",
     "output_type": "stream",
     "text": [
      "/home/vivian/anaconda3/envs/pedestrian-test/lib/python3.10/site-packages/pl_bolts/models/detection/yolo/yolo_config.py:118: UserWarning: Unknown YOLO configuration variable: objectness_smooth\n",
      "  warn(\"Unknown YOLO configuration variable: \" + key)\n",
      "Loading weights from Darknet model version 0.2.5 that has been trained on 0 images.\n"
     ]
    },
    {
     "name": "stdout",
     "output_type": "stream",
     "text": [
      "################\n",
      "conf_thres, max_cos_dist, max_iou_dist\n",
      "0.2 0.5 0.7\n",
      "2022-10-26_11.46.31.711194\n",
      "Loading video from videos/MOT20/train/MOT20-05/img1/%06d.jpg...\n",
      "Loaded video has 3315 frames at FPS 25, size 1654x1080\n"
     ]
    },
    {
     "data": {
      "application/vnd.jupyter.widget-view+json": {
       "model_id": "4c45ee49ef1d4989b9d66c017589c561",
       "version_major": 2,
       "version_minor": 0
      },
      "text/plain": [
       "  0%|          | 0/3315 [00:00<?, ?it/s]"
      ]
     },
     "metadata": {},
     "output_type": "display_data"
    },
    {
     "name": "stderr",
     "output_type": "stream",
     "text": [
      "/home/vivian/anaconda3/envs/pedestrian-test/lib/python3.10/site-packages/pl_bolts/models/detection/yolo/yolo_config.py:118: UserWarning: Unknown YOLO configuration variable: objectness_smooth\n",
      "  warn(\"Unknown YOLO configuration variable: \" + key)\n",
      "Loading weights from Darknet model version 0.2.5 that has been trained on 0 images.\n"
     ]
    },
    {
     "name": "stdout",
     "output_type": "stream",
     "text": [
      "################\n",
      "conf_thres, max_cos_dist, max_iou_dist\n",
      "0.3 0.05 0.3\n",
      "2022-10-26_12.09.14.206111\n",
      "Loading video from videos/MOT20/train/MOT20-05/img1/%06d.jpg...\n",
      "Loaded video has 3315 frames at FPS 25, size 1654x1080\n"
     ]
    },
    {
     "data": {
      "application/vnd.jupyter.widget-view+json": {
       "model_id": "2e1241451ba04ccb98588d3df90bd79b",
       "version_major": 2,
       "version_minor": 0
      },
      "text/plain": [
       "  0%|          | 0/3315 [00:00<?, ?it/s]"
      ]
     },
     "metadata": {},
     "output_type": "display_data"
    },
    {
     "name": "stderr",
     "output_type": "stream",
     "text": [
      "/home/vivian/anaconda3/envs/pedestrian-test/lib/python3.10/site-packages/pl_bolts/models/detection/yolo/yolo_config.py:118: UserWarning: Unknown YOLO configuration variable: objectness_smooth\n",
      "  warn(\"Unknown YOLO configuration variable: \" + key)\n",
      "Loading weights from Darknet model version 0.2.5 that has been trained on 0 images.\n"
     ]
    },
    {
     "name": "stdout",
     "output_type": "stream",
     "text": [
      "################\n",
      "conf_thres, max_cos_dist, max_iou_dist\n",
      "0.3 0.05 0.5\n",
      "2022-10-26_12.29.11.702739\n",
      "Loading video from videos/MOT20/train/MOT20-05/img1/%06d.jpg...\n",
      "Loaded video has 3315 frames at FPS 25, size 1654x1080\n"
     ]
    },
    {
     "data": {
      "application/vnd.jupyter.widget-view+json": {
       "model_id": "911b4bd10be0442e8b7fdc840b1427d0",
       "version_major": 2,
       "version_minor": 0
      },
      "text/plain": [
       "  0%|          | 0/3315 [00:00<?, ?it/s]"
      ]
     },
     "metadata": {},
     "output_type": "display_data"
    },
    {
     "name": "stderr",
     "output_type": "stream",
     "text": [
      "/home/vivian/anaconda3/envs/pedestrian-test/lib/python3.10/site-packages/pl_bolts/models/detection/yolo/yolo_config.py:118: UserWarning: Unknown YOLO configuration variable: objectness_smooth\n",
      "  warn(\"Unknown YOLO configuration variable: \" + key)\n",
      "Loading weights from Darknet model version 0.2.5 that has been trained on 0 images.\n"
     ]
    },
    {
     "name": "stdout",
     "output_type": "stream",
     "text": [
      "################\n",
      "conf_thres, max_cos_dist, max_iou_dist\n",
      "0.3 0.05 0.7\n",
      "2022-10-26_12.49.09.059181\n",
      "Loading video from videos/MOT20/train/MOT20-05/img1/%06d.jpg...\n",
      "Loaded video has 3315 frames at FPS 25, size 1654x1080\n"
     ]
    },
    {
     "data": {
      "application/vnd.jupyter.widget-view+json": {
       "model_id": "1eabeaf3a1d74cd1991bb843caea828b",
       "version_major": 2,
       "version_minor": 0
      },
      "text/plain": [
       "  0%|          | 0/3315 [00:00<?, ?it/s]"
      ]
     },
     "metadata": {},
     "output_type": "display_data"
    },
    {
     "name": "stderr",
     "output_type": "stream",
     "text": [
      "/home/vivian/anaconda3/envs/pedestrian-test/lib/python3.10/site-packages/pl_bolts/models/detection/yolo/yolo_config.py:118: UserWarning: Unknown YOLO configuration variable: objectness_smooth\n",
      "  warn(\"Unknown YOLO configuration variable: \" + key)\n",
      "Loading weights from Darknet model version 0.2.5 that has been trained on 0 images.\n"
     ]
    },
    {
     "name": "stdout",
     "output_type": "stream",
     "text": [
      "################\n",
      "conf_thres, max_cos_dist, max_iou_dist\n",
      "0.3 0.1 0.3\n",
      "2022-10-26_13.09.07.952970\n",
      "Loading video from videos/MOT20/train/MOT20-05/img1/%06d.jpg...\n",
      "Loaded video has 3315 frames at FPS 25, size 1654x1080\n"
     ]
    },
    {
     "data": {
      "application/vnd.jupyter.widget-view+json": {
       "model_id": "529007375ff24af9849491c241998685",
       "version_major": 2,
       "version_minor": 0
      },
      "text/plain": [
       "  0%|          | 0/3315 [00:00<?, ?it/s]"
      ]
     },
     "metadata": {},
     "output_type": "display_data"
    },
    {
     "name": "stderr",
     "output_type": "stream",
     "text": [
      "/home/vivian/anaconda3/envs/pedestrian-test/lib/python3.10/site-packages/pl_bolts/models/detection/yolo/yolo_config.py:118: UserWarning: Unknown YOLO configuration variable: objectness_smooth\n",
      "  warn(\"Unknown YOLO configuration variable: \" + key)\n",
      "Loading weights from Darknet model version 0.2.5 that has been trained on 0 images.\n"
     ]
    },
    {
     "name": "stdout",
     "output_type": "stream",
     "text": [
      "################\n",
      "conf_thres, max_cos_dist, max_iou_dist\n",
      "0.3 0.1 0.5\n",
      "2022-10-26_13.28.56.640498\n",
      "Loading video from videos/MOT20/train/MOT20-05/img1/%06d.jpg...\n",
      "Loaded video has 3315 frames at FPS 25, size 1654x1080\n"
     ]
    },
    {
     "data": {
      "application/vnd.jupyter.widget-view+json": {
       "model_id": "79d0bc5ad39644d3b09215b3b1b45b16",
       "version_major": 2,
       "version_minor": 0
      },
      "text/plain": [
       "  0%|          | 0/3315 [00:00<?, ?it/s]"
      ]
     },
     "metadata": {},
     "output_type": "display_data"
    },
    {
     "name": "stderr",
     "output_type": "stream",
     "text": [
      "/home/vivian/anaconda3/envs/pedestrian-test/lib/python3.10/site-packages/pl_bolts/models/detection/yolo/yolo_config.py:118: UserWarning: Unknown YOLO configuration variable: objectness_smooth\n",
      "  warn(\"Unknown YOLO configuration variable: \" + key)\n",
      "Loading weights from Darknet model version 0.2.5 that has been trained on 0 images.\n"
     ]
    },
    {
     "name": "stdout",
     "output_type": "stream",
     "text": [
      "################\n",
      "conf_thres, max_cos_dist, max_iou_dist\n",
      "0.3 0.1 0.7\n",
      "2022-10-26_13.48.50.138990\n",
      "Loading video from videos/MOT20/train/MOT20-05/img1/%06d.jpg...\n",
      "Loaded video has 3315 frames at FPS 25, size 1654x1080\n"
     ]
    },
    {
     "data": {
      "application/vnd.jupyter.widget-view+json": {
       "model_id": "67f3da35212a404db4aa9c4a81bf01f6",
       "version_major": 2,
       "version_minor": 0
      },
      "text/plain": [
       "  0%|          | 0/3315 [00:00<?, ?it/s]"
      ]
     },
     "metadata": {},
     "output_type": "display_data"
    },
    {
     "name": "stderr",
     "output_type": "stream",
     "text": [
      "/home/vivian/anaconda3/envs/pedestrian-test/lib/python3.10/site-packages/pl_bolts/models/detection/yolo/yolo_config.py:118: UserWarning: Unknown YOLO configuration variable: objectness_smooth\n",
      "  warn(\"Unknown YOLO configuration variable: \" + key)\n",
      "Loading weights from Darknet model version 0.2.5 that has been trained on 0 images.\n"
     ]
    },
    {
     "name": "stdout",
     "output_type": "stream",
     "text": [
      "################\n",
      "conf_thres, max_cos_dist, max_iou_dist\n",
      "0.3 0.2 0.3\n",
      "2022-10-26_14.08.45.452046\n",
      "Loading video from videos/MOT20/train/MOT20-05/img1/%06d.jpg...\n",
      "Loaded video has 3315 frames at FPS 25, size 1654x1080\n"
     ]
    },
    {
     "data": {
      "application/vnd.jupyter.widget-view+json": {
       "model_id": "9a8f114b84ac4596aab7280f0246f295",
       "version_major": 2,
       "version_minor": 0
      },
      "text/plain": [
       "  0%|          | 0/3315 [00:00<?, ?it/s]"
      ]
     },
     "metadata": {},
     "output_type": "display_data"
    },
    {
     "name": "stderr",
     "output_type": "stream",
     "text": [
      "/home/vivian/anaconda3/envs/pedestrian-test/lib/python3.10/site-packages/pl_bolts/models/detection/yolo/yolo_config.py:118: UserWarning: Unknown YOLO configuration variable: objectness_smooth\n",
      "  warn(\"Unknown YOLO configuration variable: \" + key)\n",
      "Loading weights from Darknet model version 0.2.5 that has been trained on 0 images.\n"
     ]
    },
    {
     "name": "stdout",
     "output_type": "stream",
     "text": [
      "################\n",
      "conf_thres, max_cos_dist, max_iou_dist\n",
      "0.3 0.2 0.5\n",
      "2022-10-26_14.29.18.361171\n",
      "Loading video from videos/MOT20/train/MOT20-05/img1/%06d.jpg...\n",
      "Loaded video has 3315 frames at FPS 25, size 1654x1080\n"
     ]
    },
    {
     "data": {
      "application/vnd.jupyter.widget-view+json": {
       "model_id": "95ec71939e42409ab4ed7bda45b9737d",
       "version_major": 2,
       "version_minor": 0
      },
      "text/plain": [
       "  0%|          | 0/3315 [00:00<?, ?it/s]"
      ]
     },
     "metadata": {},
     "output_type": "display_data"
    },
    {
     "name": "stderr",
     "output_type": "stream",
     "text": [
      "/home/vivian/anaconda3/envs/pedestrian-test/lib/python3.10/site-packages/pl_bolts/models/detection/yolo/yolo_config.py:118: UserWarning: Unknown YOLO configuration variable: objectness_smooth\n",
      "  warn(\"Unknown YOLO configuration variable: \" + key)\n",
      "Loading weights from Darknet model version 0.2.5 that has been trained on 0 images.\n"
     ]
    },
    {
     "name": "stdout",
     "output_type": "stream",
     "text": [
      "################\n",
      "conf_thres, max_cos_dist, max_iou_dist\n",
      "0.3 0.2 0.7\n",
      "2022-10-26_14.49.48.385364\n",
      "Loading video from videos/MOT20/train/MOT20-05/img1/%06d.jpg...\n",
      "Loaded video has 3315 frames at FPS 25, size 1654x1080\n"
     ]
    },
    {
     "data": {
      "application/vnd.jupyter.widget-view+json": {
       "model_id": "4d7f368484264b628db7285c2eb5614b",
       "version_major": 2,
       "version_minor": 0
      },
      "text/plain": [
       "  0%|          | 0/3315 [00:00<?, ?it/s]"
      ]
     },
     "metadata": {},
     "output_type": "display_data"
    },
    {
     "name": "stderr",
     "output_type": "stream",
     "text": [
      "/home/vivian/anaconda3/envs/pedestrian-test/lib/python3.10/site-packages/pl_bolts/models/detection/yolo/yolo_config.py:118: UserWarning: Unknown YOLO configuration variable: objectness_smooth\n",
      "  warn(\"Unknown YOLO configuration variable: \" + key)\n",
      "Loading weights from Darknet model version 0.2.5 that has been trained on 0 images.\n"
     ]
    },
    {
     "name": "stdout",
     "output_type": "stream",
     "text": [
      "################\n",
      "conf_thres, max_cos_dist, max_iou_dist\n",
      "0.3 0.5 0.3\n",
      "2022-10-26_15.10.21.205215\n",
      "Loading video from videos/MOT20/train/MOT20-05/img1/%06d.jpg...\n",
      "Loaded video has 3315 frames at FPS 25, size 1654x1080\n"
     ]
    },
    {
     "data": {
      "application/vnd.jupyter.widget-view+json": {
       "model_id": "3e893375a9fe4779a9df8049f727a7e8",
       "version_major": 2,
       "version_minor": 0
      },
      "text/plain": [
       "  0%|          | 0/3315 [00:00<?, ?it/s]"
      ]
     },
     "metadata": {},
     "output_type": "display_data"
    },
    {
     "name": "stderr",
     "output_type": "stream",
     "text": [
      "/home/vivian/anaconda3/envs/pedestrian-test/lib/python3.10/site-packages/pl_bolts/models/detection/yolo/yolo_config.py:118: UserWarning: Unknown YOLO configuration variable: objectness_smooth\n",
      "  warn(\"Unknown YOLO configuration variable: \" + key)\n",
      "Loading weights from Darknet model version 0.2.5 that has been trained on 0 images.\n"
     ]
    },
    {
     "name": "stdout",
     "output_type": "stream",
     "text": [
      "################\n",
      "conf_thres, max_cos_dist, max_iou_dist\n",
      "0.3 0.5 0.5\n",
      "2022-10-26_15.30.47.371738\n",
      "Loading video from videos/MOT20/train/MOT20-05/img1/%06d.jpg...\n",
      "Loaded video has 3315 frames at FPS 25, size 1654x1080\n"
     ]
    },
    {
     "data": {
      "application/vnd.jupyter.widget-view+json": {
       "model_id": "0e1662e4aeda48c091d2581cbcf3ee8d",
       "version_major": 2,
       "version_minor": 0
      },
      "text/plain": [
       "  0%|          | 0/3315 [00:00<?, ?it/s]"
      ]
     },
     "metadata": {},
     "output_type": "display_data"
    },
    {
     "name": "stderr",
     "output_type": "stream",
     "text": [
      "IOPub message rate exceeded.\n",
      "The notebook server will temporarily stop sending output\n",
      "to the client in order to avoid crashing it.\n",
      "To change this limit, set the config variable\n",
      "`--NotebookApp.iopub_msg_rate_limit`.\n",
      "\n",
      "Current values:\n",
      "NotebookApp.iopub_msg_rate_limit=1000.0 (msgs/sec)\n",
      "NotebookApp.rate_limit_window=3.0 (secs)\n",
      "\n",
      "/home/vivian/anaconda3/envs/pedestrian-test/lib/python3.10/site-packages/pl_bolts/models/detection/yolo/yolo_config.py:118: UserWarning: Unknown YOLO configuration variable: objectness_smooth\n",
      "  warn(\"Unknown YOLO configuration variable: \" + key)\n",
      "Loading weights from Darknet model version 0.2.5 that has been trained on 0 images.\n"
     ]
    },
    {
     "name": "stdout",
     "output_type": "stream",
     "text": [
      "################\n",
      "conf_thres, max_cos_dist, max_iou_dist\n",
      "0.5 0.05 0.5\n",
      "2022-10-26_16.27.49.448780\n",
      "Loading video from videos/MOT20/train/MOT20-05/img1/%06d.jpg...\n",
      "Loaded video has 3315 frames at FPS 25, size 1654x1080\n"
     ]
    },
    {
     "data": {
      "application/vnd.jupyter.widget-view+json": {
       "model_id": "482b3be6337b4582a4c8056cc917dbea",
       "version_major": 2,
       "version_minor": 0
      },
      "text/plain": [
       "  0%|          | 0/3315 [00:00<?, ?it/s]"
      ]
     },
     "metadata": {},
     "output_type": "display_data"
    },
    {
     "name": "stderr",
     "output_type": "stream",
     "text": [
      "IOPub message rate exceeded.\n",
      "The notebook server will temporarily stop sending output\n",
      "to the client in order to avoid crashing it.\n",
      "To change this limit, set the config variable\n",
      "`--NotebookApp.iopub_msg_rate_limit`.\n",
      "\n",
      "Current values:\n",
      "NotebookApp.iopub_msg_rate_limit=1000.0 (msgs/sec)\n",
      "NotebookApp.rate_limit_window=3.0 (secs)\n",
      "\n",
      "/home/vivian/anaconda3/envs/pedestrian-test/lib/python3.10/site-packages/pl_bolts/models/detection/yolo/yolo_config.py:118: UserWarning: Unknown YOLO configuration variable: objectness_smooth\n",
      "  warn(\"Unknown YOLO configuration variable: \" + key)\n",
      "Loading weights from Darknet model version 0.2.5 that has been trained on 0 images.\n"
     ]
    },
    {
     "name": "stdout",
     "output_type": "stream",
     "text": [
      "################\n",
      "conf_thres, max_cos_dist, max_iou_dist\n",
      "0.5 0.1 0.5\n",
      "2022-10-26_17.15.53.083951\n",
      "Loading video from videos/MOT20/train/MOT20-05/img1/%06d.jpg...\n",
      "Loaded video has 3315 frames at FPS 25, size 1654x1080\n"
     ]
    },
    {
     "data": {
      "application/vnd.jupyter.widget-view+json": {
       "model_id": "93067bcf0b7b4fcd8481014a86ecb29c",
       "version_major": 2,
       "version_minor": 0
      },
      "text/plain": [
       "  0%|          | 0/3315 [00:00<?, ?it/s]"
      ]
     },
     "metadata": {},
     "output_type": "display_data"
    },
    {
     "name": "stderr",
     "output_type": "stream",
     "text": [
      "IOPub message rate exceeded.\n",
      "The notebook server will temporarily stop sending output\n",
      "to the client in order to avoid crashing it.\n",
      "To change this limit, set the config variable\n",
      "`--NotebookApp.iopub_msg_rate_limit`.\n",
      "\n",
      "Current values:\n",
      "NotebookApp.iopub_msg_rate_limit=1000.0 (msgs/sec)\n",
      "NotebookApp.rate_limit_window=3.0 (secs)\n",
      "\n",
      "IOPub message rate exceeded.\n",
      "The notebook server will temporarily stop sending output\n",
      "to the client in order to avoid crashing it.\n",
      "To change this limit, set the config variable\n",
      "`--NotebookApp.iopub_msg_rate_limit`.\n",
      "\n",
      "Current values:\n",
      "NotebookApp.iopub_msg_rate_limit=1000.0 (msgs/sec)\n",
      "NotebookApp.rate_limit_window=3.0 (secs)\n",
      "\n",
      "IOPub message rate exceeded.\n",
      "The notebook server will temporarily stop sending output\n",
      "to the client in order to avoid crashing it.\n",
      "To change this limit, set the config variable\n",
      "`--NotebookApp.iopub_msg_rate_limit`.\n",
      "\n",
      "Current values:\n",
      "NotebookApp.iopub_msg_rate_limit=1000.0 (msgs/sec)\n",
      "NotebookApp.rate_limit_window=3.0 (secs)\n",
      "\n",
      "IOPub message rate exceeded.\n",
      "The notebook server will temporarily stop sending output\n",
      "to the client in order to avoid crashing it.\n",
      "To change this limit, set the config variable\n",
      "`--NotebookApp.iopub_msg_rate_limit`.\n",
      "\n",
      "Current values:\n",
      "NotebookApp.iopub_msg_rate_limit=1000.0 (msgs/sec)\n",
      "NotebookApp.rate_limit_window=3.0 (secs)\n",
      "\n",
      "IOPub message rate exceeded.\n",
      "The notebook server will temporarily stop sending output\n",
      "to the client in order to avoid crashing it.\n",
      "To change this limit, set the config variable\n",
      "`--NotebookApp.iopub_msg_rate_limit`.\n",
      "\n",
      "Current values:\n",
      "NotebookApp.iopub_msg_rate_limit=1000.0 (msgs/sec)\n",
      "NotebookApp.rate_limit_window=3.0 (secs)\n",
      "\n",
      "IOPub message rate exceeded.\n",
      "The notebook server will temporarily stop sending output\n",
      "to the client in order to avoid crashing it.\n",
      "To change this limit, set the config variable\n",
      "`--NotebookApp.iopub_msg_rate_limit`.\n",
      "\n",
      "Current values:\n",
      "NotebookApp.iopub_msg_rate_limit=1000.0 (msgs/sec)\n",
      "NotebookApp.rate_limit_window=3.0 (secs)\n",
      "\n"
     ]
    }
   ],
   "source": [
    "# for conf_thres in [0.01, 0.1, 0.2, 0.3, 0.5, 0.7]: \n",
    "#     for max_cos_dist in [0.05, 0.1, 0.2, 0.5]: \n",
    "#         for max_iou_dist in [0.3, 0.5, 0.7]: \n",
    "#             print('################')\n",
    "#             print('conf_thres, max_cos_dist, max_iou_dist')\n",
    "#             print(conf_thres, max_cos_dist, max_iou_dist)\n",
    "#             #### args ###\n",
    "#             class TrajectoryExtractorArgs: \n",
    "#                 unique_suffix = str(datetime.datetime.now().date()) + '_' + str(datetime.datetime.now().time()).replace(':', '.')\n",
    "#             #     input_video_path = \"videos/Stadium/00084.wmv\"\n",
    "#             #     input_video_path = \"videos/Y2E2/Y2E2_West.MOV\"\n",
    "#             #     input_video_path = \"videos/GCS/grandcentral.avi\"\n",
    "#                 MOT_subset_name = 'MOT20-05'\n",
    "#                 input_video_path = \"videos/MOT20/train/{}/img1/%06d.jpg\".format(MOT_subset_name)\n",
    "#             #     output_txt_path = output_video_path.replace(\"avi\", \"txt\")\n",
    "\n",
    "#                 output_txt_folder = 'TrackEval/data/trackers/mot_challenge/MOT20-train/YOLO_DeepSORT_{}'.format(unique_suffix)\n",
    "#                 if not os.path.exists(output_txt_folder):\n",
    "#                     os.makedirs(output_txt_folder)\n",
    "#                     os.makedirs(output_txt_folder+'/data')\n",
    "#                 output_txt_path = output_txt_folder+'/data/{}.txt'.format(MOT_subset_name)\n",
    "#                 output_video_path = os.path.split(input_video_path)[0]+\"/out_{}.avi\".format(unique_suffix)\n",
    "\n",
    "#             #     yolo_config_path = \"yolo/yolov4-tiny-3l.cfg\"\n",
    "#             #     yolo_pre_weights_path = \"yolo/yolov4-tiny.weights\"\n",
    "#                 yolo_config_path = \"yolo/yolov7-tiny.cfg\"\n",
    "#                 yolo_pre_weights_path = \"yolo/yolov7-tiny.weights\"\n",
    "\n",
    "#                 confidence_threshold = 0.01#0.7\n",
    "#                 deepsort_parameters_path = \"deep_sort/deep/checkpoint/ckpt.t7\"\n",
    "\n",
    "#             args = TrajectoryExtractorArgs\n",
    "#             args.confidence_threshold = conf_thres\n",
    "#             print(args.unique_suffix)\n",
    "#             # set up our extractor\n",
    "#             extractor = TrajectoryExtractor(args)\n",
    "\n",
    "#             # set up yolo\n",
    "#             yolo_config = YOLOConfiguration(args.yolo_config_path)\n",
    "#             yolo_config.width = extractor.imw\n",
    "#             yolo_config.height = extractor.imh\n",
    "#             model = YOLO(network=yolo_config.get_network()).to(device)\n",
    "#             with open(args.yolo_pre_weights_path) as pre_weights: \n",
    "#                 model.load_darknet_weights(pre_weights)\n",
    "\n",
    "#             extractor.load_detector(model)\n",
    "\n",
    "#             # # set up faster rcnn TODO\n",
    "#             # model = FasterRCNN(pretrained=True).to(device)\n",
    "#             # extractor.load_detector(model)\n",
    "\n",
    "#             # set up deepsort\n",
    "#             extractor.load_tracker(\n",
    "#                 DeepSort(args.deepsort_parameters_path, \n",
    "#                          min_confidence = args.confidence_threshold, \n",
    "#                          max_dist=max_cos_dist,\n",
    "#                          max_iou_distance=max_iou_dist)\n",
    "#             )\n",
    "\n",
    "#             detector_out_df, tracker_out_df = extractor.detect_all(\n",
    "#             #     max_frames=100,\n",
    "#                 skip_every_n_frames = 1\n",
    "#             )\n",
    "\n",
    "#             extractor.release_all()"
   ]
  },
  {
   "cell_type": "markdown",
   "id": "2aa6ab8d",
   "metadata": {},
   "source": [
    "# testing on one image"
   ]
  },
  {
   "cell_type": "code",
   "execution_count": 48,
   "id": "9eae13c4",
   "metadata": {},
   "outputs": [],
   "source": [
    "from PIL import Image\n",
    "def get_prediction(img_path, confidence):\n",
    "    \"\"\"\n",
    "    get_prediction\n",
    "    parameters:\n",
    "      - img_path - path of the input image\n",
    "      - confidence - threshold value for prediction score\n",
    "    method:\n",
    "      - Image is obtained from the image path\n",
    "      - the image is converted to image tensor using PyTorch's Transforms\n",
    "      - image is passed through the model to get the predictions\n",
    "      - class, box coordinates are obtained, but only prediction score > threshold\n",
    "        are chosen.\n",
    "\n",
    "    \"\"\"\n",
    "    img = Image.open(img_path)\n",
    "    transform = torchvision.transforms.Compose([torchvision.transforms.ToTensor()])\n",
    "    img = transform(img)\n",
    "    pred = model([img])\n",
    "    pred_class = [COCO_INSTANCE_CATEGORY_NAMES[i] for i in list(pred[0]['labels'].numpy())]\n",
    "    pred_boxes = [[(i[0], i[1]), (i[2], i[3])] for i in list(pred[0]['boxes'].detach().numpy())]\n",
    "    pred_score = list(pred[0]['scores'].detach().numpy())\n",
    "    pred_t = [pred_score.index(x) for x in pred_score if x>confidence][-1]\n",
    "    pred_boxes = pred_boxes[:pred_t+1]\n",
    "    pred_class = pred_class[:pred_t+1]\n",
    "    return pred_boxes, pred_class\n",
    "\n",
    "def detect_object(img_path, confidence=0.5, rect_th=2, text_size=2, text_th=2):\n",
    "    \"\"\"\n",
    "    object_detection_api\n",
    "    parameters:\n",
    "      - img_path - path of the input image\n",
    "      - confidence - threshold value for prediction score\n",
    "      - rect_th - thickness of bounding box\n",
    "      - text_size - size of the class label text\n",
    "      - text_th - thichness of the text\n",
    "    method:\n",
    "      - prediction is obtained from get_prediction method\n",
    "      - for each prediction, bounding box is drawn and text is written \n",
    "        with opencv\n",
    "      - the final image is displayed\n",
    "    \"\"\"\n",
    "    boxes, pred_cls = get_prediction(img_path, confidence)\n",
    "    img = cv2.imread(img_path)\n",
    "    img = cv2.cvtColor(img, cv2.COLOR_BGR2RGB)\n",
    "    # print(len(boxes)) \n",
    "    for i in range(len(boxes)):\n",
    "        boxes[i] = np.around(boxes[i]).astype('int') # round to int\n",
    "        cv2.rectangle(img, boxes[i][0], boxes[i][1],color=(0, 255, 0), thickness=rect_th)\n",
    "        cv2.putText(img,pred_cls[i], boxes[i][0], cv2.FONT_HERSHEY_SIMPLEX, text_size, (0,255,0),thickness=text_th)\n",
    "    plt.figure(figsize=(20,30))\n",
    "    plt.imshow(img)\n",
    "    plt.xticks([])\n",
    "    plt.yticks([])\n",
    "    plt.show()"
   ]
  },
  {
   "cell_type": "code",
   "execution_count": 58,
   "id": "6711ac9e",
   "metadata": {},
   "outputs": [],
   "source": [
    "m1 = FasterRCNN(pretrained=True) \n"
   ]
  },
  {
   "cell_type": "code",
   "execution_count": 61,
   "id": "6120b299",
   "metadata": {},
   "outputs": [
    {
     "data": {
      "text/plain": [
       "FasterRCNN(\n",
       "  (transform): GeneralizedRCNNTransform(\n",
       "      Normalize(mean=[0.485, 0.456, 0.406], std=[0.229, 0.224, 0.225])\n",
       "      Resize(min_size=(800,), max_size=1333, mode='bilinear')\n",
       "  )\n",
       "  (backbone): BackboneWithFPN(\n",
       "    (body): IntermediateLayerGetter(\n",
       "      (conv1): Conv2d(3, 64, kernel_size=(7, 7), stride=(2, 2), padding=(3, 3), bias=False)\n",
       "      (bn1): FrozenBatchNorm2d(64, eps=0.0)\n",
       "      (relu): ReLU(inplace=True)\n",
       "      (maxpool): MaxPool2d(kernel_size=3, stride=2, padding=1, dilation=1, ceil_mode=False)\n",
       "      (layer1): Sequential(\n",
       "        (0): Bottleneck(\n",
       "          (conv1): Conv2d(64, 64, kernel_size=(1, 1), stride=(1, 1), bias=False)\n",
       "          (bn1): FrozenBatchNorm2d(64, eps=0.0)\n",
       "          (conv2): Conv2d(64, 64, kernel_size=(3, 3), stride=(1, 1), padding=(1, 1), bias=False)\n",
       "          (bn2): FrozenBatchNorm2d(64, eps=0.0)\n",
       "          (conv3): Conv2d(64, 256, kernel_size=(1, 1), stride=(1, 1), bias=False)\n",
       "          (bn3): FrozenBatchNorm2d(256, eps=0.0)\n",
       "          (relu): ReLU(inplace=True)\n",
       "          (downsample): Sequential(\n",
       "            (0): Conv2d(64, 256, kernel_size=(1, 1), stride=(1, 1), bias=False)\n",
       "            (1): FrozenBatchNorm2d(256, eps=0.0)\n",
       "          )\n",
       "        )\n",
       "        (1): Bottleneck(\n",
       "          (conv1): Conv2d(256, 64, kernel_size=(1, 1), stride=(1, 1), bias=False)\n",
       "          (bn1): FrozenBatchNorm2d(64, eps=0.0)\n",
       "          (conv2): Conv2d(64, 64, kernel_size=(3, 3), stride=(1, 1), padding=(1, 1), bias=False)\n",
       "          (bn2): FrozenBatchNorm2d(64, eps=0.0)\n",
       "          (conv3): Conv2d(64, 256, kernel_size=(1, 1), stride=(1, 1), bias=False)\n",
       "          (bn3): FrozenBatchNorm2d(256, eps=0.0)\n",
       "          (relu): ReLU(inplace=True)\n",
       "        )\n",
       "        (2): Bottleneck(\n",
       "          (conv1): Conv2d(256, 64, kernel_size=(1, 1), stride=(1, 1), bias=False)\n",
       "          (bn1): FrozenBatchNorm2d(64, eps=0.0)\n",
       "          (conv2): Conv2d(64, 64, kernel_size=(3, 3), stride=(1, 1), padding=(1, 1), bias=False)\n",
       "          (bn2): FrozenBatchNorm2d(64, eps=0.0)\n",
       "          (conv3): Conv2d(64, 256, kernel_size=(1, 1), stride=(1, 1), bias=False)\n",
       "          (bn3): FrozenBatchNorm2d(256, eps=0.0)\n",
       "          (relu): ReLU(inplace=True)\n",
       "        )\n",
       "      )\n",
       "      (layer2): Sequential(\n",
       "        (0): Bottleneck(\n",
       "          (conv1): Conv2d(256, 128, kernel_size=(1, 1), stride=(1, 1), bias=False)\n",
       "          (bn1): FrozenBatchNorm2d(128, eps=0.0)\n",
       "          (conv2): Conv2d(128, 128, kernel_size=(3, 3), stride=(2, 2), padding=(1, 1), bias=False)\n",
       "          (bn2): FrozenBatchNorm2d(128, eps=0.0)\n",
       "          (conv3): Conv2d(128, 512, kernel_size=(1, 1), stride=(1, 1), bias=False)\n",
       "          (bn3): FrozenBatchNorm2d(512, eps=0.0)\n",
       "          (relu): ReLU(inplace=True)\n",
       "          (downsample): Sequential(\n",
       "            (0): Conv2d(256, 512, kernel_size=(1, 1), stride=(2, 2), bias=False)\n",
       "            (1): FrozenBatchNorm2d(512, eps=0.0)\n",
       "          )\n",
       "        )\n",
       "        (1): Bottleneck(\n",
       "          (conv1): Conv2d(512, 128, kernel_size=(1, 1), stride=(1, 1), bias=False)\n",
       "          (bn1): FrozenBatchNorm2d(128, eps=0.0)\n",
       "          (conv2): Conv2d(128, 128, kernel_size=(3, 3), stride=(1, 1), padding=(1, 1), bias=False)\n",
       "          (bn2): FrozenBatchNorm2d(128, eps=0.0)\n",
       "          (conv3): Conv2d(128, 512, kernel_size=(1, 1), stride=(1, 1), bias=False)\n",
       "          (bn3): FrozenBatchNorm2d(512, eps=0.0)\n",
       "          (relu): ReLU(inplace=True)\n",
       "        )\n",
       "        (2): Bottleneck(\n",
       "          (conv1): Conv2d(512, 128, kernel_size=(1, 1), stride=(1, 1), bias=False)\n",
       "          (bn1): FrozenBatchNorm2d(128, eps=0.0)\n",
       "          (conv2): Conv2d(128, 128, kernel_size=(3, 3), stride=(1, 1), padding=(1, 1), bias=False)\n",
       "          (bn2): FrozenBatchNorm2d(128, eps=0.0)\n",
       "          (conv3): Conv2d(128, 512, kernel_size=(1, 1), stride=(1, 1), bias=False)\n",
       "          (bn3): FrozenBatchNorm2d(512, eps=0.0)\n",
       "          (relu): ReLU(inplace=True)\n",
       "        )\n",
       "        (3): Bottleneck(\n",
       "          (conv1): Conv2d(512, 128, kernel_size=(1, 1), stride=(1, 1), bias=False)\n",
       "          (bn1): FrozenBatchNorm2d(128, eps=0.0)\n",
       "          (conv2): Conv2d(128, 128, kernel_size=(3, 3), stride=(1, 1), padding=(1, 1), bias=False)\n",
       "          (bn2): FrozenBatchNorm2d(128, eps=0.0)\n",
       "          (conv3): Conv2d(128, 512, kernel_size=(1, 1), stride=(1, 1), bias=False)\n",
       "          (bn3): FrozenBatchNorm2d(512, eps=0.0)\n",
       "          (relu): ReLU(inplace=True)\n",
       "        )\n",
       "      )\n",
       "      (layer3): Sequential(\n",
       "        (0): Bottleneck(\n",
       "          (conv1): Conv2d(512, 256, kernel_size=(1, 1), stride=(1, 1), bias=False)\n",
       "          (bn1): FrozenBatchNorm2d(256, eps=0.0)\n",
       "          (conv2): Conv2d(256, 256, kernel_size=(3, 3), stride=(2, 2), padding=(1, 1), bias=False)\n",
       "          (bn2): FrozenBatchNorm2d(256, eps=0.0)\n",
       "          (conv3): Conv2d(256, 1024, kernel_size=(1, 1), stride=(1, 1), bias=False)\n",
       "          (bn3): FrozenBatchNorm2d(1024, eps=0.0)\n",
       "          (relu): ReLU(inplace=True)\n",
       "          (downsample): Sequential(\n",
       "            (0): Conv2d(512, 1024, kernel_size=(1, 1), stride=(2, 2), bias=False)\n",
       "            (1): FrozenBatchNorm2d(1024, eps=0.0)\n",
       "          )\n",
       "        )\n",
       "        (1): Bottleneck(\n",
       "          (conv1): Conv2d(1024, 256, kernel_size=(1, 1), stride=(1, 1), bias=False)\n",
       "          (bn1): FrozenBatchNorm2d(256, eps=0.0)\n",
       "          (conv2): Conv2d(256, 256, kernel_size=(3, 3), stride=(1, 1), padding=(1, 1), bias=False)\n",
       "          (bn2): FrozenBatchNorm2d(256, eps=0.0)\n",
       "          (conv3): Conv2d(256, 1024, kernel_size=(1, 1), stride=(1, 1), bias=False)\n",
       "          (bn3): FrozenBatchNorm2d(1024, eps=0.0)\n",
       "          (relu): ReLU(inplace=True)\n",
       "        )\n",
       "        (2): Bottleneck(\n",
       "          (conv1): Conv2d(1024, 256, kernel_size=(1, 1), stride=(1, 1), bias=False)\n",
       "          (bn1): FrozenBatchNorm2d(256, eps=0.0)\n",
       "          (conv2): Conv2d(256, 256, kernel_size=(3, 3), stride=(1, 1), padding=(1, 1), bias=False)\n",
       "          (bn2): FrozenBatchNorm2d(256, eps=0.0)\n",
       "          (conv3): Conv2d(256, 1024, kernel_size=(1, 1), stride=(1, 1), bias=False)\n",
       "          (bn3): FrozenBatchNorm2d(1024, eps=0.0)\n",
       "          (relu): ReLU(inplace=True)\n",
       "        )\n",
       "        (3): Bottleneck(\n",
       "          (conv1): Conv2d(1024, 256, kernel_size=(1, 1), stride=(1, 1), bias=False)\n",
       "          (bn1): FrozenBatchNorm2d(256, eps=0.0)\n",
       "          (conv2): Conv2d(256, 256, kernel_size=(3, 3), stride=(1, 1), padding=(1, 1), bias=False)\n",
       "          (bn2): FrozenBatchNorm2d(256, eps=0.0)\n",
       "          (conv3): Conv2d(256, 1024, kernel_size=(1, 1), stride=(1, 1), bias=False)\n",
       "          (bn3): FrozenBatchNorm2d(1024, eps=0.0)\n",
       "          (relu): ReLU(inplace=True)\n",
       "        )\n",
       "        (4): Bottleneck(\n",
       "          (conv1): Conv2d(1024, 256, kernel_size=(1, 1), stride=(1, 1), bias=False)\n",
       "          (bn1): FrozenBatchNorm2d(256, eps=0.0)\n",
       "          (conv2): Conv2d(256, 256, kernel_size=(3, 3), stride=(1, 1), padding=(1, 1), bias=False)\n",
       "          (bn2): FrozenBatchNorm2d(256, eps=0.0)\n",
       "          (conv3): Conv2d(256, 1024, kernel_size=(1, 1), stride=(1, 1), bias=False)\n",
       "          (bn3): FrozenBatchNorm2d(1024, eps=0.0)\n",
       "          (relu): ReLU(inplace=True)\n",
       "        )\n",
       "        (5): Bottleneck(\n",
       "          (conv1): Conv2d(1024, 256, kernel_size=(1, 1), stride=(1, 1), bias=False)\n",
       "          (bn1): FrozenBatchNorm2d(256, eps=0.0)\n",
       "          (conv2): Conv2d(256, 256, kernel_size=(3, 3), stride=(1, 1), padding=(1, 1), bias=False)\n",
       "          (bn2): FrozenBatchNorm2d(256, eps=0.0)\n",
       "          (conv3): Conv2d(256, 1024, kernel_size=(1, 1), stride=(1, 1), bias=False)\n",
       "          (bn3): FrozenBatchNorm2d(1024, eps=0.0)\n",
       "          (relu): ReLU(inplace=True)\n",
       "        )\n",
       "      )\n",
       "      (layer4): Sequential(\n",
       "        (0): Bottleneck(\n",
       "          (conv1): Conv2d(1024, 512, kernel_size=(1, 1), stride=(1, 1), bias=False)\n",
       "          (bn1): FrozenBatchNorm2d(512, eps=0.0)\n",
       "          (conv2): Conv2d(512, 512, kernel_size=(3, 3), stride=(2, 2), padding=(1, 1), bias=False)\n",
       "          (bn2): FrozenBatchNorm2d(512, eps=0.0)\n",
       "          (conv3): Conv2d(512, 2048, kernel_size=(1, 1), stride=(1, 1), bias=False)\n",
       "          (bn3): FrozenBatchNorm2d(2048, eps=0.0)\n",
       "          (relu): ReLU(inplace=True)\n",
       "          (downsample): Sequential(\n",
       "            (0): Conv2d(1024, 2048, kernel_size=(1, 1), stride=(2, 2), bias=False)\n",
       "            (1): FrozenBatchNorm2d(2048, eps=0.0)\n",
       "          )\n",
       "        )\n",
       "        (1): Bottleneck(\n",
       "          (conv1): Conv2d(2048, 512, kernel_size=(1, 1), stride=(1, 1), bias=False)\n",
       "          (bn1): FrozenBatchNorm2d(512, eps=0.0)\n",
       "          (conv2): Conv2d(512, 512, kernel_size=(3, 3), stride=(1, 1), padding=(1, 1), bias=False)\n",
       "          (bn2): FrozenBatchNorm2d(512, eps=0.0)\n",
       "          (conv3): Conv2d(512, 2048, kernel_size=(1, 1), stride=(1, 1), bias=False)\n",
       "          (bn3): FrozenBatchNorm2d(2048, eps=0.0)\n",
       "          (relu): ReLU(inplace=True)\n",
       "        )\n",
       "        (2): Bottleneck(\n",
       "          (conv1): Conv2d(2048, 512, kernel_size=(1, 1), stride=(1, 1), bias=False)\n",
       "          (bn1): FrozenBatchNorm2d(512, eps=0.0)\n",
       "          (conv2): Conv2d(512, 512, kernel_size=(3, 3), stride=(1, 1), padding=(1, 1), bias=False)\n",
       "          (bn2): FrozenBatchNorm2d(512, eps=0.0)\n",
       "          (conv3): Conv2d(512, 2048, kernel_size=(1, 1), stride=(1, 1), bias=False)\n",
       "          (bn3): FrozenBatchNorm2d(2048, eps=0.0)\n",
       "          (relu): ReLU(inplace=True)\n",
       "        )\n",
       "      )\n",
       "    )\n",
       "    (fpn): FeaturePyramidNetwork(\n",
       "      (inner_blocks): ModuleList(\n",
       "        (0): Conv2dNormActivation(\n",
       "          (0): Conv2d(256, 256, kernel_size=(1, 1), stride=(1, 1))\n",
       "        )\n",
       "        (1): Conv2dNormActivation(\n",
       "          (0): Conv2d(512, 256, kernel_size=(1, 1), stride=(1, 1))\n",
       "        )\n",
       "        (2): Conv2dNormActivation(\n",
       "          (0): Conv2d(1024, 256, kernel_size=(1, 1), stride=(1, 1))\n",
       "        )\n",
       "        (3): Conv2dNormActivation(\n",
       "          (0): Conv2d(2048, 256, kernel_size=(1, 1), stride=(1, 1))\n",
       "        )\n",
       "      )\n",
       "      (layer_blocks): ModuleList(\n",
       "        (0): Conv2dNormActivation(\n",
       "          (0): Conv2d(256, 256, kernel_size=(3, 3), stride=(1, 1), padding=(1, 1))\n",
       "        )\n",
       "        (1): Conv2dNormActivation(\n",
       "          (0): Conv2d(256, 256, kernel_size=(3, 3), stride=(1, 1), padding=(1, 1))\n",
       "        )\n",
       "        (2): Conv2dNormActivation(\n",
       "          (0): Conv2d(256, 256, kernel_size=(3, 3), stride=(1, 1), padding=(1, 1))\n",
       "        )\n",
       "        (3): Conv2dNormActivation(\n",
       "          (0): Conv2d(256, 256, kernel_size=(3, 3), stride=(1, 1), padding=(1, 1))\n",
       "        )\n",
       "      )\n",
       "      (extra_blocks): LastLevelMaxPool()\n",
       "    )\n",
       "  )\n",
       "  (rpn): RegionProposalNetwork(\n",
       "    (anchor_generator): AnchorGenerator()\n",
       "    (head): RPNHead(\n",
       "      (conv): Sequential(\n",
       "        (0): Conv2dNormActivation(\n",
       "          (0): Conv2d(256, 256, kernel_size=(3, 3), stride=(1, 1), padding=(1, 1))\n",
       "          (1): ReLU(inplace=True)\n",
       "        )\n",
       "      )\n",
       "      (cls_logits): Conv2d(256, 3, kernel_size=(1, 1), stride=(1, 1))\n",
       "      (bbox_pred): Conv2d(256, 12, kernel_size=(1, 1), stride=(1, 1))\n",
       "    )\n",
       "  )\n",
       "  (roi_heads): RoIHeads(\n",
       "    (box_roi_pool): MultiScaleRoIAlign(featmap_names=['0', '1', '2', '3'], output_size=(7, 7), sampling_ratio=2)\n",
       "    (box_head): TwoMLPHead(\n",
       "      (fc6): Linear(in_features=12544, out_features=1024, bias=True)\n",
       "      (fc7): Linear(in_features=1024, out_features=1024, bias=True)\n",
       "    )\n",
       "    (box_predictor): FastRCNNPredictor(\n",
       "      (cls_score): Linear(in_features=1024, out_features=91, bias=True)\n",
       "      (bbox_pred): Linear(in_features=1024, out_features=364, bias=True)\n",
       "    )\n",
       "  )\n",
       ")"
      ]
     },
     "execution_count": 61,
     "metadata": {},
     "output_type": "execute_result"
    }
   ],
   "source": [
    "model = m1.model\n",
    "model.eval()"
   ]
  },
  {
   "cell_type": "code",
   "execution_count": 63,
   "id": "8143784a",
   "metadata": {},
   "outputs": [
    {
     "data": {
      "text/plain": [
       "FasterRCNN(\n",
       "  (transform): GeneralizedRCNNTransform(\n",
       "      Normalize(mean=[0.485, 0.456, 0.406], std=[0.229, 0.224, 0.225])\n",
       "      Resize(min_size=(800,), max_size=1333, mode='bilinear')\n",
       "  )\n",
       "  (backbone): BackboneWithFPN(\n",
       "    (body): IntermediateLayerGetter(\n",
       "      (conv1): Conv2d(3, 64, kernel_size=(7, 7), stride=(2, 2), padding=(3, 3), bias=False)\n",
       "      (bn1): FrozenBatchNorm2d(64, eps=0.0)\n",
       "      (relu): ReLU(inplace=True)\n",
       "      (maxpool): MaxPool2d(kernel_size=3, stride=2, padding=1, dilation=1, ceil_mode=False)\n",
       "      (layer1): Sequential(\n",
       "        (0): Bottleneck(\n",
       "          (conv1): Conv2d(64, 64, kernel_size=(1, 1), stride=(1, 1), bias=False)\n",
       "          (bn1): FrozenBatchNorm2d(64, eps=0.0)\n",
       "          (conv2): Conv2d(64, 64, kernel_size=(3, 3), stride=(1, 1), padding=(1, 1), bias=False)\n",
       "          (bn2): FrozenBatchNorm2d(64, eps=0.0)\n",
       "          (conv3): Conv2d(64, 256, kernel_size=(1, 1), stride=(1, 1), bias=False)\n",
       "          (bn3): FrozenBatchNorm2d(256, eps=0.0)\n",
       "          (relu): ReLU(inplace=True)\n",
       "          (downsample): Sequential(\n",
       "            (0): Conv2d(64, 256, kernel_size=(1, 1), stride=(1, 1), bias=False)\n",
       "            (1): FrozenBatchNorm2d(256, eps=0.0)\n",
       "          )\n",
       "        )\n",
       "        (1): Bottleneck(\n",
       "          (conv1): Conv2d(256, 64, kernel_size=(1, 1), stride=(1, 1), bias=False)\n",
       "          (bn1): FrozenBatchNorm2d(64, eps=0.0)\n",
       "          (conv2): Conv2d(64, 64, kernel_size=(3, 3), stride=(1, 1), padding=(1, 1), bias=False)\n",
       "          (bn2): FrozenBatchNorm2d(64, eps=0.0)\n",
       "          (conv3): Conv2d(64, 256, kernel_size=(1, 1), stride=(1, 1), bias=False)\n",
       "          (bn3): FrozenBatchNorm2d(256, eps=0.0)\n",
       "          (relu): ReLU(inplace=True)\n",
       "        )\n",
       "        (2): Bottleneck(\n",
       "          (conv1): Conv2d(256, 64, kernel_size=(1, 1), stride=(1, 1), bias=False)\n",
       "          (bn1): FrozenBatchNorm2d(64, eps=0.0)\n",
       "          (conv2): Conv2d(64, 64, kernel_size=(3, 3), stride=(1, 1), padding=(1, 1), bias=False)\n",
       "          (bn2): FrozenBatchNorm2d(64, eps=0.0)\n",
       "          (conv3): Conv2d(64, 256, kernel_size=(1, 1), stride=(1, 1), bias=False)\n",
       "          (bn3): FrozenBatchNorm2d(256, eps=0.0)\n",
       "          (relu): ReLU(inplace=True)\n",
       "        )\n",
       "      )\n",
       "      (layer2): Sequential(\n",
       "        (0): Bottleneck(\n",
       "          (conv1): Conv2d(256, 128, kernel_size=(1, 1), stride=(1, 1), bias=False)\n",
       "          (bn1): FrozenBatchNorm2d(128, eps=0.0)\n",
       "          (conv2): Conv2d(128, 128, kernel_size=(3, 3), stride=(2, 2), padding=(1, 1), bias=False)\n",
       "          (bn2): FrozenBatchNorm2d(128, eps=0.0)\n",
       "          (conv3): Conv2d(128, 512, kernel_size=(1, 1), stride=(1, 1), bias=False)\n",
       "          (bn3): FrozenBatchNorm2d(512, eps=0.0)\n",
       "          (relu): ReLU(inplace=True)\n",
       "          (downsample): Sequential(\n",
       "            (0): Conv2d(256, 512, kernel_size=(1, 1), stride=(2, 2), bias=False)\n",
       "            (1): FrozenBatchNorm2d(512, eps=0.0)\n",
       "          )\n",
       "        )\n",
       "        (1): Bottleneck(\n",
       "          (conv1): Conv2d(512, 128, kernel_size=(1, 1), stride=(1, 1), bias=False)\n",
       "          (bn1): FrozenBatchNorm2d(128, eps=0.0)\n",
       "          (conv2): Conv2d(128, 128, kernel_size=(3, 3), stride=(1, 1), padding=(1, 1), bias=False)\n",
       "          (bn2): FrozenBatchNorm2d(128, eps=0.0)\n",
       "          (conv3): Conv2d(128, 512, kernel_size=(1, 1), stride=(1, 1), bias=False)\n",
       "          (bn3): FrozenBatchNorm2d(512, eps=0.0)\n",
       "          (relu): ReLU(inplace=True)\n",
       "        )\n",
       "        (2): Bottleneck(\n",
       "          (conv1): Conv2d(512, 128, kernel_size=(1, 1), stride=(1, 1), bias=False)\n",
       "          (bn1): FrozenBatchNorm2d(128, eps=0.0)\n",
       "          (conv2): Conv2d(128, 128, kernel_size=(3, 3), stride=(1, 1), padding=(1, 1), bias=False)\n",
       "          (bn2): FrozenBatchNorm2d(128, eps=0.0)\n",
       "          (conv3): Conv2d(128, 512, kernel_size=(1, 1), stride=(1, 1), bias=False)\n",
       "          (bn3): FrozenBatchNorm2d(512, eps=0.0)\n",
       "          (relu): ReLU(inplace=True)\n",
       "        )\n",
       "        (3): Bottleneck(\n",
       "          (conv1): Conv2d(512, 128, kernel_size=(1, 1), stride=(1, 1), bias=False)\n",
       "          (bn1): FrozenBatchNorm2d(128, eps=0.0)\n",
       "          (conv2): Conv2d(128, 128, kernel_size=(3, 3), stride=(1, 1), padding=(1, 1), bias=False)\n",
       "          (bn2): FrozenBatchNorm2d(128, eps=0.0)\n",
       "          (conv3): Conv2d(128, 512, kernel_size=(1, 1), stride=(1, 1), bias=False)\n",
       "          (bn3): FrozenBatchNorm2d(512, eps=0.0)\n",
       "          (relu): ReLU(inplace=True)\n",
       "        )\n",
       "      )\n",
       "      (layer3): Sequential(\n",
       "        (0): Bottleneck(\n",
       "          (conv1): Conv2d(512, 256, kernel_size=(1, 1), stride=(1, 1), bias=False)\n",
       "          (bn1): FrozenBatchNorm2d(256, eps=0.0)\n",
       "          (conv2): Conv2d(256, 256, kernel_size=(3, 3), stride=(2, 2), padding=(1, 1), bias=False)\n",
       "          (bn2): FrozenBatchNorm2d(256, eps=0.0)\n",
       "          (conv3): Conv2d(256, 1024, kernel_size=(1, 1), stride=(1, 1), bias=False)\n",
       "          (bn3): FrozenBatchNorm2d(1024, eps=0.0)\n",
       "          (relu): ReLU(inplace=True)\n",
       "          (downsample): Sequential(\n",
       "            (0): Conv2d(512, 1024, kernel_size=(1, 1), stride=(2, 2), bias=False)\n",
       "            (1): FrozenBatchNorm2d(1024, eps=0.0)\n",
       "          )\n",
       "        )\n",
       "        (1): Bottleneck(\n",
       "          (conv1): Conv2d(1024, 256, kernel_size=(1, 1), stride=(1, 1), bias=False)\n",
       "          (bn1): FrozenBatchNorm2d(256, eps=0.0)\n",
       "          (conv2): Conv2d(256, 256, kernel_size=(3, 3), stride=(1, 1), padding=(1, 1), bias=False)\n",
       "          (bn2): FrozenBatchNorm2d(256, eps=0.0)\n",
       "          (conv3): Conv2d(256, 1024, kernel_size=(1, 1), stride=(1, 1), bias=False)\n",
       "          (bn3): FrozenBatchNorm2d(1024, eps=0.0)\n",
       "          (relu): ReLU(inplace=True)\n",
       "        )\n",
       "        (2): Bottleneck(\n",
       "          (conv1): Conv2d(1024, 256, kernel_size=(1, 1), stride=(1, 1), bias=False)\n",
       "          (bn1): FrozenBatchNorm2d(256, eps=0.0)\n",
       "          (conv2): Conv2d(256, 256, kernel_size=(3, 3), stride=(1, 1), padding=(1, 1), bias=False)\n",
       "          (bn2): FrozenBatchNorm2d(256, eps=0.0)\n",
       "          (conv3): Conv2d(256, 1024, kernel_size=(1, 1), stride=(1, 1), bias=False)\n",
       "          (bn3): FrozenBatchNorm2d(1024, eps=0.0)\n",
       "          (relu): ReLU(inplace=True)\n",
       "        )\n",
       "        (3): Bottleneck(\n",
       "          (conv1): Conv2d(1024, 256, kernel_size=(1, 1), stride=(1, 1), bias=False)\n",
       "          (bn1): FrozenBatchNorm2d(256, eps=0.0)\n",
       "          (conv2): Conv2d(256, 256, kernel_size=(3, 3), stride=(1, 1), padding=(1, 1), bias=False)\n",
       "          (bn2): FrozenBatchNorm2d(256, eps=0.0)\n",
       "          (conv3): Conv2d(256, 1024, kernel_size=(1, 1), stride=(1, 1), bias=False)\n",
       "          (bn3): FrozenBatchNorm2d(1024, eps=0.0)\n",
       "          (relu): ReLU(inplace=True)\n",
       "        )\n",
       "        (4): Bottleneck(\n",
       "          (conv1): Conv2d(1024, 256, kernel_size=(1, 1), stride=(1, 1), bias=False)\n",
       "          (bn1): FrozenBatchNorm2d(256, eps=0.0)\n",
       "          (conv2): Conv2d(256, 256, kernel_size=(3, 3), stride=(1, 1), padding=(1, 1), bias=False)\n",
       "          (bn2): FrozenBatchNorm2d(256, eps=0.0)\n",
       "          (conv3): Conv2d(256, 1024, kernel_size=(1, 1), stride=(1, 1), bias=False)\n",
       "          (bn3): FrozenBatchNorm2d(1024, eps=0.0)\n",
       "          (relu): ReLU(inplace=True)\n",
       "        )\n",
       "        (5): Bottleneck(\n",
       "          (conv1): Conv2d(1024, 256, kernel_size=(1, 1), stride=(1, 1), bias=False)\n",
       "          (bn1): FrozenBatchNorm2d(256, eps=0.0)\n",
       "          (conv2): Conv2d(256, 256, kernel_size=(3, 3), stride=(1, 1), padding=(1, 1), bias=False)\n",
       "          (bn2): FrozenBatchNorm2d(256, eps=0.0)\n",
       "          (conv3): Conv2d(256, 1024, kernel_size=(1, 1), stride=(1, 1), bias=False)\n",
       "          (bn3): FrozenBatchNorm2d(1024, eps=0.0)\n",
       "          (relu): ReLU(inplace=True)\n",
       "        )\n",
       "      )\n",
       "      (layer4): Sequential(\n",
       "        (0): Bottleneck(\n",
       "          (conv1): Conv2d(1024, 512, kernel_size=(1, 1), stride=(1, 1), bias=False)\n",
       "          (bn1): FrozenBatchNorm2d(512, eps=0.0)\n",
       "          (conv2): Conv2d(512, 512, kernel_size=(3, 3), stride=(2, 2), padding=(1, 1), bias=False)\n",
       "          (bn2): FrozenBatchNorm2d(512, eps=0.0)\n",
       "          (conv3): Conv2d(512, 2048, kernel_size=(1, 1), stride=(1, 1), bias=False)\n",
       "          (bn3): FrozenBatchNorm2d(2048, eps=0.0)\n",
       "          (relu): ReLU(inplace=True)\n",
       "          (downsample): Sequential(\n",
       "            (0): Conv2d(1024, 2048, kernel_size=(1, 1), stride=(2, 2), bias=False)\n",
       "            (1): FrozenBatchNorm2d(2048, eps=0.0)\n",
       "          )\n",
       "        )\n",
       "        (1): Bottleneck(\n",
       "          (conv1): Conv2d(2048, 512, kernel_size=(1, 1), stride=(1, 1), bias=False)\n",
       "          (bn1): FrozenBatchNorm2d(512, eps=0.0)\n",
       "          (conv2): Conv2d(512, 512, kernel_size=(3, 3), stride=(1, 1), padding=(1, 1), bias=False)\n",
       "          (bn2): FrozenBatchNorm2d(512, eps=0.0)\n",
       "          (conv3): Conv2d(512, 2048, kernel_size=(1, 1), stride=(1, 1), bias=False)\n",
       "          (bn3): FrozenBatchNorm2d(2048, eps=0.0)\n",
       "          (relu): ReLU(inplace=True)\n",
       "        )\n",
       "        (2): Bottleneck(\n",
       "          (conv1): Conv2d(2048, 512, kernel_size=(1, 1), stride=(1, 1), bias=False)\n",
       "          (bn1): FrozenBatchNorm2d(512, eps=0.0)\n",
       "          (conv2): Conv2d(512, 512, kernel_size=(3, 3), stride=(1, 1), padding=(1, 1), bias=False)\n",
       "          (bn2): FrozenBatchNorm2d(512, eps=0.0)\n",
       "          (conv3): Conv2d(512, 2048, kernel_size=(1, 1), stride=(1, 1), bias=False)\n",
       "          (bn3): FrozenBatchNorm2d(2048, eps=0.0)\n",
       "          (relu): ReLU(inplace=True)\n",
       "        )\n",
       "      )\n",
       "    )\n",
       "    (fpn): FeaturePyramidNetwork(\n",
       "      (inner_blocks): ModuleList(\n",
       "        (0): Conv2dNormActivation(\n",
       "          (0): Conv2d(256, 256, kernel_size=(1, 1), stride=(1, 1))\n",
       "        )\n",
       "        (1): Conv2dNormActivation(\n",
       "          (0): Conv2d(512, 256, kernel_size=(1, 1), stride=(1, 1))\n",
       "        )\n",
       "        (2): Conv2dNormActivation(\n",
       "          (0): Conv2d(1024, 256, kernel_size=(1, 1), stride=(1, 1))\n",
       "        )\n",
       "        (3): Conv2dNormActivation(\n",
       "          (0): Conv2d(2048, 256, kernel_size=(1, 1), stride=(1, 1))\n",
       "        )\n",
       "      )\n",
       "      (layer_blocks): ModuleList(\n",
       "        (0): Conv2dNormActivation(\n",
       "          (0): Conv2d(256, 256, kernel_size=(3, 3), stride=(1, 1), padding=(1, 1))\n",
       "        )\n",
       "        (1): Conv2dNormActivation(\n",
       "          (0): Conv2d(256, 256, kernel_size=(3, 3), stride=(1, 1), padding=(1, 1))\n",
       "        )\n",
       "        (2): Conv2dNormActivation(\n",
       "          (0): Conv2d(256, 256, kernel_size=(3, 3), stride=(1, 1), padding=(1, 1))\n",
       "        )\n",
       "        (3): Conv2dNormActivation(\n",
       "          (0): Conv2d(256, 256, kernel_size=(3, 3), stride=(1, 1), padding=(1, 1))\n",
       "        )\n",
       "      )\n",
       "      (extra_blocks): LastLevelMaxPool()\n",
       "    )\n",
       "  )\n",
       "  (rpn): RegionProposalNetwork(\n",
       "    (anchor_generator): AnchorGenerator()\n",
       "    (head): RPNHead(\n",
       "      (conv): Sequential(\n",
       "        (0): Conv2dNormActivation(\n",
       "          (0): Conv2d(256, 256, kernel_size=(3, 3), stride=(1, 1), padding=(1, 1))\n",
       "          (1): ReLU(inplace=True)\n",
       "        )\n",
       "      )\n",
       "      (cls_logits): Conv2d(256, 3, kernel_size=(1, 1), stride=(1, 1))\n",
       "      (bbox_pred): Conv2d(256, 12, kernel_size=(1, 1), stride=(1, 1))\n",
       "    )\n",
       "  )\n",
       "  (roi_heads): RoIHeads(\n",
       "    (box_roi_pool): MultiScaleRoIAlign(featmap_names=['0', '1', '2', '3'], output_size=(7, 7), sampling_ratio=2)\n",
       "    (box_head): TwoMLPHead(\n",
       "      (fc6): Linear(in_features=12544, out_features=1024, bias=True)\n",
       "      (fc7): Linear(in_features=1024, out_features=1024, bias=True)\n",
       "    )\n",
       "    (box_predictor): FastRCNNPredictor(\n",
       "      (cls_score): Linear(in_features=1024, out_features=91, bias=True)\n",
       "      (bbox_pred): Linear(in_features=1024, out_features=364, bias=True)\n",
       "    )\n",
       "  )\n",
       ")"
      ]
     },
     "execution_count": 63,
     "metadata": {},
     "output_type": "execute_result"
    }
   ],
   "source": [
    "model = torchvision.models.detection.fasterrcnn_resnet50_fpn(pretrained=True,\n",
    "                                                             pretrained_backbone=True,\n",
    "                                                             trainable_backbone_layers=3)\n",
    "model.eval()"
   ]
  },
  {
   "cell_type": "code",
   "execution_count": 56,
   "id": "999d2d99",
   "metadata": {},
   "outputs": [],
   "source": [
    "# load model\n",
    "model = torchvision.models.detection.fasterrcnn_resnet50_fpn(pretrained=True,\n",
    "                                                             pretrained_backbone=True,\n",
    "                                                             trainable_backbone_layers=3)\n",
    "# set to evaluation mode\n",
    "model.eval()\n",
    "\n",
    "\n",
    "# load the COCO dataset category names\n",
    "# we will use the same list for this notebook\n",
    "COCO_INSTANCE_CATEGORY_NAMES = [\n",
    "    '__background__', 'person', 'bicycle', 'car', 'motorcycle', 'airplane', 'bus',\n",
    "    'train', 'truck', 'boat', 'traffic light', 'fire hydrant', 'N/A', 'stop sign',\n",
    "    'parking meter', 'bench', 'bird', 'cat', 'dog', 'horse', 'sheep', 'cow',\n",
    "    'elephant', 'bear', 'zebra', 'giraffe', 'N/A', 'backpack', 'umbrella', 'N/A', 'N/A',\n",
    "    'handbag', 'tie', 'suitcase', 'frisbee', 'skis', 'snowboard', 'sports ball',\n",
    "    'kite', 'baseball bat', 'baseball glove', 'skateboard', 'surfboard', 'tennis racket',\n",
    "    'bottle', 'N/A', 'wine glass', 'cup', 'fork', 'knife', 'spoon', 'bowl',\n",
    "    'banana', 'apple', 'sandwich', 'orange', 'broccoli', 'carrot', 'hot dog', 'pizza',\n",
    "    'donut', 'cake', 'chair', 'couch', 'potted plant', 'bed', 'N/A', 'dining table',\n",
    "    'N/A', 'N/A', 'toilet', 'N/A', 'tv', 'laptop', 'mouse', 'remote', 'keyboard', 'cell phone',\n",
    "    'microwave', 'oven', 'toaster', 'sink', 'refrigerator', 'N/A', 'book',\n",
    "    'clock', 'vase', 'scissors', 'teddy bear', 'hair drier', 'toothbrush'\n",
    "]"
   ]
  },
  {
   "cell_type": "code",
   "execution_count": 62,
   "id": "22cbddcd",
   "metadata": {},
   "outputs": [
    {
     "ename": "IndexError",
     "evalue": "list index out of range",
     "output_type": "error",
     "traceback": [
      "\u001b[0;31m---------------------------------------------------------------------------\u001b[0m",
      "\u001b[0;31mIndexError\u001b[0m                                Traceback (most recent call last)",
      "Cell \u001b[0;32mIn [62], line 2\u001b[0m\n\u001b[1;32m      1\u001b[0m \u001b[38;5;66;03m# !wget -nv https://storage.needpix.com/rsynced_images/pedestrian-zone-456909_1280.jpg -O pedestrian.jpg\u001b[39;00m\n\u001b[0;32m----> 2\u001b[0m detect_object(\u001b[38;5;124m'\u001b[39m\u001b[38;5;124m./pedestrian.jpg\u001b[39m\u001b[38;5;124m'\u001b[39m, confidence\u001b[38;5;241m=\u001b[39m\u001b[38;5;241m0.7\u001b[39m)\n",
      "Cell \u001b[0;32mIn [48], line 43\u001b[0m, in \u001b[0;36mdetect_object\u001b[0;34m(img_path, confidence, rect_th, text_size, text_th)\u001b[0m\n\u001b[1;32m     28\u001b[0m \u001b[38;5;28;01mdef\u001b[39;00m \u001b[38;5;21mdetect_object\u001b[39m(img_path, confidence\u001b[38;5;241m=\u001b[39m\u001b[38;5;241m0.5\u001b[39m, rect_th\u001b[38;5;241m=\u001b[39m\u001b[38;5;241m2\u001b[39m, text_size\u001b[38;5;241m=\u001b[39m\u001b[38;5;241m2\u001b[39m, text_th\u001b[38;5;241m=\u001b[39m\u001b[38;5;241m2\u001b[39m):\n\u001b[1;32m     29\u001b[0m     \u001b[38;5;124;03m\"\"\"\u001b[39;00m\n\u001b[1;32m     30\u001b[0m \u001b[38;5;124;03m    object_detection_api\u001b[39;00m\n\u001b[1;32m     31\u001b[0m \u001b[38;5;124;03m    parameters:\u001b[39;00m\n\u001b[0;32m   (...)\u001b[0m\n\u001b[1;32m     41\u001b[0m \u001b[38;5;124;03m      - the final image is displayed\u001b[39;00m\n\u001b[1;32m     42\u001b[0m \u001b[38;5;124;03m    \"\"\"\u001b[39;00m\n\u001b[0;32m---> 43\u001b[0m     boxes, pred_cls \u001b[38;5;241m=\u001b[39m \u001b[43mget_prediction\u001b[49m\u001b[43m(\u001b[49m\u001b[43mimg_path\u001b[49m\u001b[43m,\u001b[49m\u001b[43m \u001b[49m\u001b[43mconfidence\u001b[49m\u001b[43m)\u001b[49m\n\u001b[1;32m     44\u001b[0m     img \u001b[38;5;241m=\u001b[39m cv2\u001b[38;5;241m.\u001b[39mimread(img_path)\n\u001b[1;32m     45\u001b[0m     img \u001b[38;5;241m=\u001b[39m cv2\u001b[38;5;241m.\u001b[39mcvtColor(img, cv2\u001b[38;5;241m.\u001b[39mCOLOR_BGR2RGB)\n",
      "Cell \u001b[0;32mIn [48], line 23\u001b[0m, in \u001b[0;36mget_prediction\u001b[0;34m(img_path, confidence)\u001b[0m\n\u001b[1;32m     21\u001b[0m pred_boxes \u001b[38;5;241m=\u001b[39m [[(i[\u001b[38;5;241m0\u001b[39m], i[\u001b[38;5;241m1\u001b[39m]), (i[\u001b[38;5;241m2\u001b[39m], i[\u001b[38;5;241m3\u001b[39m])] \u001b[38;5;28;01mfor\u001b[39;00m i \u001b[38;5;129;01min\u001b[39;00m \u001b[38;5;28mlist\u001b[39m(pred[\u001b[38;5;241m0\u001b[39m][\u001b[38;5;124m'\u001b[39m\u001b[38;5;124mboxes\u001b[39m\u001b[38;5;124m'\u001b[39m]\u001b[38;5;241m.\u001b[39mdetach()\u001b[38;5;241m.\u001b[39mnumpy())]\n\u001b[1;32m     22\u001b[0m pred_score \u001b[38;5;241m=\u001b[39m \u001b[38;5;28mlist\u001b[39m(pred[\u001b[38;5;241m0\u001b[39m][\u001b[38;5;124m'\u001b[39m\u001b[38;5;124mscores\u001b[39m\u001b[38;5;124m'\u001b[39m]\u001b[38;5;241m.\u001b[39mdetach()\u001b[38;5;241m.\u001b[39mnumpy())\n\u001b[0;32m---> 23\u001b[0m pred_t \u001b[38;5;241m=\u001b[39m \u001b[43m[\u001b[49m\u001b[43mpred_score\u001b[49m\u001b[38;5;241;43m.\u001b[39;49m\u001b[43mindex\u001b[49m\u001b[43m(\u001b[49m\u001b[43mx\u001b[49m\u001b[43m)\u001b[49m\u001b[43m \u001b[49m\u001b[38;5;28;43;01mfor\u001b[39;49;00m\u001b[43m \u001b[49m\u001b[43mx\u001b[49m\u001b[43m \u001b[49m\u001b[38;5;129;43;01min\u001b[39;49;00m\u001b[43m \u001b[49m\u001b[43mpred_score\u001b[49m\u001b[43m \u001b[49m\u001b[38;5;28;43;01mif\u001b[39;49;00m\u001b[43m \u001b[49m\u001b[43mx\u001b[49m\u001b[38;5;241;43m>\u001b[39;49m\u001b[43mconfidence\u001b[49m\u001b[43m]\u001b[49m\u001b[43m[\u001b[49m\u001b[38;5;241;43m-\u001b[39;49m\u001b[38;5;241;43m1\u001b[39;49m\u001b[43m]\u001b[49m\n\u001b[1;32m     24\u001b[0m pred_boxes \u001b[38;5;241m=\u001b[39m pred_boxes[:pred_t\u001b[38;5;241m+\u001b[39m\u001b[38;5;241m1\u001b[39m]\n\u001b[1;32m     25\u001b[0m pred_class \u001b[38;5;241m=\u001b[39m pred_class[:pred_t\u001b[38;5;241m+\u001b[39m\u001b[38;5;241m1\u001b[39m]\n",
      "\u001b[0;31mIndexError\u001b[0m: list index out of range"
     ]
    }
   ],
   "source": [
    "# !wget -nv https://storage.needpix.com/rsynced_images/pedestrian-zone-456909_1280.jpg -O pedestrian.jpg\n",
    "detect_object('./pedestrian.jpg', confidence=0.7)"
   ]
  },
  {
   "cell_type": "code",
   "execution_count": 53,
   "id": "d9392fbc",
   "metadata": {},
   "outputs": [
    {
     "name": "stdout",
     "output_type": "stream",
     "text": [
      "> \u001b[0;32m/tmp/ipykernel_7283/695336359.py\u001b[0m(23)\u001b[0;36mget_prediction\u001b[0;34m()\u001b[0m\n",
      "\u001b[0;32m     21 \u001b[0;31m    \u001b[0mpred_boxes\u001b[0m \u001b[0;34m=\u001b[0m \u001b[0;34m[\u001b[0m\u001b[0;34m[\u001b[0m\u001b[0;34m(\u001b[0m\u001b[0mi\u001b[0m\u001b[0;34m[\u001b[0m\u001b[0;36m0\u001b[0m\u001b[0;34m]\u001b[0m\u001b[0;34m,\u001b[0m \u001b[0mi\u001b[0m\u001b[0;34m[\u001b[0m\u001b[0;36m1\u001b[0m\u001b[0;34m]\u001b[0m\u001b[0;34m)\u001b[0m\u001b[0;34m,\u001b[0m \u001b[0;34m(\u001b[0m\u001b[0mi\u001b[0m\u001b[0;34m[\u001b[0m\u001b[0;36m2\u001b[0m\u001b[0;34m]\u001b[0m\u001b[0;34m,\u001b[0m \u001b[0mi\u001b[0m\u001b[0;34m[\u001b[0m\u001b[0;36m3\u001b[0m\u001b[0;34m]\u001b[0m\u001b[0;34m)\u001b[0m\u001b[0;34m]\u001b[0m \u001b[0;32mfor\u001b[0m \u001b[0mi\u001b[0m \u001b[0;32min\u001b[0m \u001b[0mlist\u001b[0m\u001b[0;34m(\u001b[0m\u001b[0mpred\u001b[0m\u001b[0;34m[\u001b[0m\u001b[0;36m0\u001b[0m\u001b[0;34m]\u001b[0m\u001b[0;34m[\u001b[0m\u001b[0;34m'boxes'\u001b[0m\u001b[0;34m]\u001b[0m\u001b[0;34m.\u001b[0m\u001b[0mdetach\u001b[0m\u001b[0;34m(\u001b[0m\u001b[0;34m)\u001b[0m\u001b[0;34m.\u001b[0m\u001b[0mnumpy\u001b[0m\u001b[0;34m(\u001b[0m\u001b[0;34m)\u001b[0m\u001b[0;34m)\u001b[0m\u001b[0;34m]\u001b[0m\u001b[0;34m\u001b[0m\u001b[0;34m\u001b[0m\u001b[0m\n",
      "\u001b[0m\u001b[0;32m     22 \u001b[0;31m    \u001b[0mpred_score\u001b[0m \u001b[0;34m=\u001b[0m \u001b[0mlist\u001b[0m\u001b[0;34m(\u001b[0m\u001b[0mpred\u001b[0m\u001b[0;34m[\u001b[0m\u001b[0;36m0\u001b[0m\u001b[0;34m]\u001b[0m\u001b[0;34m[\u001b[0m\u001b[0;34m'scores'\u001b[0m\u001b[0;34m]\u001b[0m\u001b[0;34m.\u001b[0m\u001b[0mdetach\u001b[0m\u001b[0;34m(\u001b[0m\u001b[0;34m)\u001b[0m\u001b[0;34m.\u001b[0m\u001b[0mnumpy\u001b[0m\u001b[0;34m(\u001b[0m\u001b[0;34m)\u001b[0m\u001b[0;34m)\u001b[0m\u001b[0;34m\u001b[0m\u001b[0;34m\u001b[0m\u001b[0m\n",
      "\u001b[0m\u001b[0;32m---> 23 \u001b[0;31m    \u001b[0mpred_t\u001b[0m \u001b[0;34m=\u001b[0m \u001b[0;34m[\u001b[0m\u001b[0mpred_score\u001b[0m\u001b[0;34m.\u001b[0m\u001b[0mindex\u001b[0m\u001b[0;34m(\u001b[0m\u001b[0mx\u001b[0m\u001b[0;34m)\u001b[0m \u001b[0;32mfor\u001b[0m \u001b[0mx\u001b[0m \u001b[0;32min\u001b[0m \u001b[0mpred_score\u001b[0m \u001b[0;32mif\u001b[0m \u001b[0mx\u001b[0m\u001b[0;34m>\u001b[0m\u001b[0mconfidence\u001b[0m\u001b[0;34m]\u001b[0m\u001b[0;34m[\u001b[0m\u001b[0;34m-\u001b[0m\u001b[0;36m1\u001b[0m\u001b[0;34m]\u001b[0m\u001b[0;34m\u001b[0m\u001b[0;34m\u001b[0m\u001b[0m\n",
      "\u001b[0m\u001b[0;32m     24 \u001b[0;31m    \u001b[0mpred_boxes\u001b[0m \u001b[0;34m=\u001b[0m \u001b[0mpred_boxes\u001b[0m\u001b[0;34m[\u001b[0m\u001b[0;34m:\u001b[0m\u001b[0mpred_t\u001b[0m\u001b[0;34m+\u001b[0m\u001b[0;36m1\u001b[0m\u001b[0;34m]\u001b[0m\u001b[0;34m\u001b[0m\u001b[0;34m\u001b[0m\u001b[0m\n",
      "\u001b[0m\u001b[0;32m     25 \u001b[0;31m    \u001b[0mpred_class\u001b[0m \u001b[0;34m=\u001b[0m \u001b[0mpred_class\u001b[0m\u001b[0;34m[\u001b[0m\u001b[0;34m:\u001b[0m\u001b[0mpred_t\u001b[0m\u001b[0;34m+\u001b[0m\u001b[0;36m1\u001b[0m\u001b[0;34m]\u001b[0m\u001b[0;34m\u001b[0m\u001b[0;34m\u001b[0m\u001b[0m\n",
      "\u001b[0m\n",
      "ipdb> pred_score\n",
      "[]\n",
      "ipdb> q\n"
     ]
    }
   ],
   "source": [
    "%debug"
   ]
  },
  {
   "cell_type": "code",
   "execution_count": null,
   "id": "fc5bbef2",
   "metadata": {},
   "outputs": [],
   "source": [
    "frame = "
   ]
  },
  {
   "cell_type": "code",
   "execution_count": null,
   "id": "a6f3ff82",
   "metadata": {},
   "outputs": [],
   "source": [
    "extractor.detect_frame(\".\")"
   ]
  }
 ],
 "metadata": {
  "kernelspec": {
   "display_name": "Python 3 (ipykernel)",
   "language": "python",
   "name": "python3"
  },
  "language_info": {
   "codemirror_mode": {
    "name": "ipython",
    "version": 3
   },
   "file_extension": ".py",
   "mimetype": "text/x-python",
   "name": "python",
   "nbconvert_exporter": "python",
   "pygments_lexer": "ipython3",
   "version": "3.10.6"
  }
 },
 "nbformat": 4,
 "nbformat_minor": 5
}
