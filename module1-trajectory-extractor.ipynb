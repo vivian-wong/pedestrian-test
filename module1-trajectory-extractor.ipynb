{
 "cells": [
  {
   "cell_type": "markdown",
   "id": "9fd138b5-7206-4a17-9a24-b89957eda179",
   "metadata": {
    "tags": []
   },
   "source": [
    "# Import Packages"
   ]
  },
  {
   "cell_type": "code",
   "execution_count": 11,
   "id": "0b6cf63c-662b-40e4-a1c5-8a46d12db14e",
   "metadata": {},
   "outputs": [],
   "source": [
    "# !wget https://raw.githubusercontent.com/AlexeyAB/darknet/master/cfg/yolov4-tiny-3l.cfg\n",
    "# !wget https://github.com/AlexeyAB/darknet/releases/download/darknet_yolo_v4_pre/yolov4-tiny.weights"
   ]
  },
  {
   "cell_type": "code",
   "execution_count": 12,
   "id": "f29dc42c-9ce4-4dea-8216-7abb2ecedf54",
   "metadata": {},
   "outputs": [
    {
     "name": "stdout",
     "output_type": "stream",
     "text": [
      "The autoreload extension is already loaded. To reload it, use:\n",
      "  %reload_ext autoreload\n"
     ]
    }
   ],
   "source": [
    "%load_ext autoreload\n",
    "import pandas as pd \n",
    "import numpy as np\n",
    "import pytorch_lightning as pl\n",
    "import matplotlib.pyplot as plt\n",
    "import cv2, os, torch\n",
    "from pl_bolts.models.detection import YOLO, YOLOConfiguration"
   ]
  },
  {
   "cell_type": "markdown",
   "id": "24a019cc-faeb-4b63-8420-52ea25c984f8",
   "metadata": {
    "tags": []
   },
   "source": [
    "# Defined User Args"
   ]
  },
  {
   "cell_type": "code",
   "execution_count": 13,
   "id": "89d7baa2-08b2-4630-955a-fbac19c5d545",
   "metadata": {},
   "outputs": [
    {
     "data": {
      "text/plain": [
       "device(type='cpu')"
      ]
     },
     "execution_count": 13,
     "metadata": {},
     "output_type": "execute_result"
    }
   ],
   "source": [
    "class TrajectoryExtractorArgs: \n",
    "    video_path = \"videos/Y2E2/Y2E2_West.MOV\"\n",
    "    yolo_config_path = \"yolov4-tiny-3l.cfg\"\n",
    "    yolo_pre_weights_path = \"yolov4-tiny.weights\"\n",
    "args = TrajectoryExtractorArgs\n",
    "device = torch.device('cuda' if torch.cuda.is_available() else 'cpu')\n",
    "device"
   ]
  },
  {
   "cell_type": "markdown",
   "id": "56b7720c-9452-47f2-aa79-48674a2fef89",
   "metadata": {
    "tags": []
   },
   "source": [
    "# Step 1: DL model to track human locations in frames"
   ]
  },
  {
   "cell_type": "code",
   "execution_count": 14,
   "id": "81a405ad-4717-49cf-b653-2c5485c04ace",
   "metadata": {},
   "outputs": [],
   "source": [
    "cap = cv2.VideoCapture(args.video_path)\n",
    "width  = int(cap.get(cv2.CAP_PROP_FRAME_WIDTH))\n",
    "height = int(cap.get(cv2.CAP_PROP_FRAME_HEIGHT))\n",
    "FPS = int(cap.get(cv2.CAP_PROP_FPS))\n",
    "num_frames = int(cap.get(cv2.CAP_PROP_FRAME_COUNT))"
   ]
  },
  {
   "cell_type": "code",
   "execution_count": 15,
   "id": "b9d8a554-7936-48c6-91b2-8c8c3576bac7",
   "metadata": {},
   "outputs": [],
   "source": [
    "ret, frame = cap.read()"
   ]
  },
  {
   "cell_type": "code",
   "execution_count": 16,
   "id": "5a4e1bad-de0c-44a3-b300-7e62910e6b96",
   "metadata": {},
   "outputs": [],
   "source": [
    "# rgb_img = cv2.cvtColor(frame, cv2.COLOR_BGR2RGB)\n",
    "# plt.imshow(rgb_img)"
   ]
  },
  {
   "cell_type": "code",
   "execution_count": 23,
   "id": "8cc91842-320f-420c-98c1-d3a197227d54",
   "metadata": {},
   "outputs": [],
   "source": [
    "# yolov4\n",
    "yolo_config = YOLOConfiguration(args.yolo_config_path)\n",
    "yolo_config.width = width\n",
    "yolo_config.height = height\n",
    "yolo_config.global_config['width'] = width\n",
    "yolo_config.global_config['width'] = height"
   ]
  },
  {
   "cell_type": "code",
   "execution_count": 20,
   "id": "fec923e5",
   "metadata": {},
   "outputs": [
    {
     "data": {
      "text/plain": [
       "dict_keys(['type', 'batch', 'subdivisions', 'width', 'height', 'channels', 'momentum', 'decay', 'angle', 'saturation', 'exposure', 'hue', 'learning_rate', 'burn_in', 'max_batches', 'policy', 'steps', 'scales', 'global_config', 'layer_configs'])"
      ]
     },
     "execution_count": 20,
     "metadata": {},
     "output_type": "execute_result"
    }
   ],
   "source": [
    "yolo_config.__dict__.keys()"
   ]
  },
  {
   "cell_type": "code",
   "execution_count": null,
   "id": "2f679f8e",
   "metadata": {},
   "outputs": [
    {
     "name": "stderr",
     "output_type": "stream",
     "text": [
      "Loading weights from Darknet model version 0.2.5 that has been trained on 0 images.\n"
     ]
    }
   ],
   "source": [
    "model = YOLO(network=yolo_config.get_network()).to(device)\n",
    "with open(args.yolo_pre_weights_path) as pre_weights: \n",
    "    model.load_darknet_weights(pre_weights)"
   ]
  },
  {
   "cell_type": "code",
   "execution_count": 1,
   "id": "7e56babf-d1ac-4c93-a38d-dd8ed04d54bb",
   "metadata": {},
   "outputs": [
    {
     "ename": "NameError",
     "evalue": "name 'model' is not defined",
     "output_type": "error",
     "traceback": [
      "\u001b[0;31m---------------------------------------------------------------------------\u001b[0m",
      "\u001b[0;31mNameError\u001b[0m                                 Traceback (most recent call last)",
      "\u001b[0;32m/var/folders/6g/ncy78cd141709nsd6sf2dxy40000gn/T/ipykernel_84350/2425384948.py\u001b[0m in \u001b[0;36m<module>\u001b[0;34m\u001b[0m\n\u001b[0;32m----> 1\u001b[0;31m \u001b[0mmodel\u001b[0m\u001b[0;34m.\u001b[0m\u001b[0minfer\u001b[0m\u001b[0;34m(\u001b[0m\u001b[0mtorch\u001b[0m\u001b[0;34m.\u001b[0m\u001b[0mrand\u001b[0m\u001b[0;34m(\u001b[0m\u001b[0;34m[\u001b[0m\u001b[0;36m3\u001b[0m\u001b[0;34m,\u001b[0m\u001b[0myolo_config\u001b[0m\u001b[0;34m.\u001b[0m\u001b[0mwidth\u001b[0m\u001b[0;34m,\u001b[0m\u001b[0myolo_config\u001b[0m\u001b[0;34m.\u001b[0m\u001b[0mheight\u001b[0m\u001b[0;34m]\u001b[0m\u001b[0;34m)\u001b[0m\u001b[0;34m)\u001b[0m\u001b[0;34m\u001b[0m\u001b[0;34m\u001b[0m\u001b[0m\n\u001b[0m",
      "\u001b[0;31mNameError\u001b[0m: name 'model' is not defined"
     ]
    }
   ],
   "source": [
    "model.infer(torch.rand([3,yolo_config.width,yolo_config.height]))"
   ]
  },
  {
   "cell_type": "code",
   "execution_count": 7,
   "id": "e271bde2-904d-4234-b236-f2a7b9114263",
   "metadata": {},
   "outputs": [],
   "source": [
    "# batch = torch.from_numpy(np.reshape(frame, (-1, 3, height, width)))"
   ]
  },
  {
   "cell_type": "markdown",
   "id": "aa5bfa6c-5fd0-4a65-ba20-db89ec465c01",
   "metadata": {},
   "source": [
    "# Step 2: Obtain 2D Plane Projection （TODO: automate this)"
   ]
  },
  {
   "cell_type": "code",
   "execution_count": null,
   "id": "5900617b-7e36-442d-8aec-8455016de648",
   "metadata": {},
   "outputs": [],
   "source": []
  },
  {
   "cell_type": "markdown",
   "id": "5a5ccf62-c357-4993-898a-6a72cb028a6e",
   "metadata": {},
   "source": [
    "# Step 3: Obtain the transformed human trajectories in world coordinates"
   ]
  },
  {
   "cell_type": "code",
   "execution_count": null,
   "id": "3a492b1d-f9ae-4e1b-965a-41cd743017d0",
   "metadata": {},
   "outputs": [],
   "source": []
  },
  {
   "cell_type": "markdown",
   "id": "9be5e11d-d041-4cac-82cc-322c56190493",
   "metadata": {},
   "source": [
    "# Step 4: Identify crowdedness severity"
   ]
  },
  {
   "cell_type": "code",
   "execution_count": null,
   "id": "606c5880-d0ae-457c-b17d-d225b6a5063a",
   "metadata": {},
   "outputs": [],
   "source": []
  }
 ],
 "metadata": {
  "kernelspec": {
   "display_name": "py37pedestrian-test",
   "language": "python",
   "name": "pedestrian-test"
  },
  "language_info": {
   "codemirror_mode": {
    "name": "ipython",
    "version": 3
   },
   "file_extension": ".py",
   "mimetype": "text/x-python",
   "name": "python",
   "nbconvert_exporter": "python",
   "pygments_lexer": "ipython3",
   "version": "3.7.12"
  }
 },
 "nbformat": 4,
 "nbformat_minor": 5
}
